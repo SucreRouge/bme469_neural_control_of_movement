{
 "cells": [
  {
   "cell_type": "markdown",
   "metadata": {
    "collapsed": true
   },
   "source": [
    "# **Final homework**\n",
    "\n",
    "by Titipat Achakulvisut\n",
    "\n",
    "## **Dynamic programming**\n",
    "\n",
    "Create a simple 8 X 1 grid world, such that the reward in every entry is -1 except for the `home` square in the top which has a reward of 0. In this world the possible moves are up or down. Moving down in the bottommost square keeps you in the same square. If you reach the `home` square, then you automatically `win` and receive the `0` reward – i.e. once you reach `home` you can never move out of it."
   ]
  },
  {
   "cell_type": "code",
   "execution_count": 1,
   "metadata": {
    "collapsed": true
   },
   "outputs": [],
   "source": [
    "import numpy as np\n",
    "import matplotlib.pyplot as plt\n",
    "%matplotlib inline"
   ]
  },
  {
   "cell_type": "code",
   "execution_count": 2,
   "metadata": {
    "collapsed": true
   },
   "outputs": [],
   "source": [
    "n_states = 8\n",
    "n_actions = 2"
   ]
  },
  {
   "cell_type": "markdown",
   "metadata": {},
   "source": [
    "a) **Policy Evaluation**: Assume a random policy – i.e. your probability of moving up or down is 0.5 in every square. Use dynamic programming to find the value function for this policy. Use the Bellman equation explicitly and iteratively to find the value for each square. After each iteration you will get closer and closer to correct value function."
   ]
  },
  {
   "cell_type": "code",
   "execution_count": 3,
   "metadata": {
    "collapsed": true
   },
   "outputs": [],
   "source": [
    "# rewards\n",
    "r = np.ones(n_states)*-1.0\n",
    "r[0] = 0."
   ]
  },
  {
   "cell_type": "code",
   "execution_count": 4,
   "metadata": {
    "collapsed": true
   },
   "outputs": [],
   "source": [
    "# probability of each action from one state to another\n",
    "P = np.zeros((n_states, n_actions, n_states))"
   ]
  },
  {
   "cell_type": "code",
   "execution_count": 5,
   "metadata": {
    "collapsed": true
   },
   "outputs": [],
   "source": [
    "# up action\n",
    "for s in range(n_states):\n",
    "    for a in range(n_actions):\n",
    "        if s == 0: # top action when at top\n",
    "            P[s, a, s] = 1.\n",
    "        elif s == n_states-1 and a == 1: # bot action when at bottom\n",
    "            P[s, a, s] = 1.\n",
    "        else:\n",
    "            P[s, a, s+(a*2-1)] = 1."
   ]
  },
  {
   "cell_type": "code",
   "execution_count": 6,
   "metadata": {
    "collapsed": true
   },
   "outputs": [],
   "source": [
    "# random policy\n",
    "Pi = np.ones((n_states, n_actions))*0.5"
   ]
  },
  {
   "cell_type": "code",
   "execution_count": 7,
   "metadata": {
    "collapsed": true
   },
   "outputs": [],
   "source": [
    "def v_evaluate(v, r, P, Pi):\n",
    "    \"\"\"One iteration of policy evaluation\"\"\"\n",
    "    return (Pi * P.dot(r + v)).sum(1)\n",
    "\n",
    "def policy_evaluation(v, r, P, Pi, threshold=1e-3):\n",
    "    \"\"\"Policy evaluation\n",
    "    v: initial value estimates\n",
    "    r: reward of each state\n",
    "    P: transition matrices (n_states, n_actions, n_states)\n",
    "    Pi: policy (n_states, n_actions)\n",
    "    \"\"\"\n",
    "    # store values\n",
    "    all_v = []\n",
    "    # run policy evaluation\n",
    "    continue_evalutation = True\n",
    "    while continue_evalutation:\n",
    "        new_v = v_evaluate(v, r, P, Pi)\n",
    "        mse = np.sqrt(np.mean((v - new_v)**2))\n",
    "        all_v.append(new_v)\n",
    "        if mse <= threshold:\n",
    "            continue_evalutation = False\n",
    "        v = new_v\n",
    "    return v, np.vstack(all_v)"
   ]
  },
  {
   "cell_type": "code",
   "execution_count": 8,
   "metadata": {
    "collapsed": false
   },
   "outputs": [],
   "source": [
    "# initial values\n",
    "v = np.zeros(n_states)\n",
    "v, all_v = policy_evaluation(v, r, P, Pi)"
   ]
  },
  {
   "cell_type": "code",
   "execution_count": 9,
   "metadata": {
    "collapsed": false
   },
   "outputs": [
    {
     "data": {
      "image/png": "[encoded data removed]",
      "text/plain": [
       "<matplotlib.figure.Figure at 0x10835d4a8>"
      ]
     },
     "metadata": {},
     "output_type": "display_data"
    }
   ],
   "source": [
    "plt.plot(np.vstack(all_v));\n",
    "plt.legend(range(8));\n",
    "plt.xlabel('iteration');\n",
    "plt.ylabel('value');\n",
    "plt.ylim([-60, 5]);"
   ]
  },
  {
   "cell_type": "markdown",
   "metadata": {},
   "source": [
    "here, we can see that the value converge to minus value and proportional to how far it is to the home state."
   ]
  },
  {
   "cell_type": "markdown",
   "metadata": {},
   "source": [
    "b) **Policy iteration**: Now use dynamic programming to find the optimal policy. Start with a random policy, as in (a). Perform policy evaluation , as in (a), until it converges. Now update the policy based on this value function by being greedy – for each square, update your policy by assigning a probability of 1 to the action (up/down) according to whichever action has a higher expected value. If both actions would result in equal expected values, assign them equal 0.5 probabilities. Then repeat policy evaluation again, using this new policy. Keep iterating between policy evaluation and policy"
   ]
  },
  {
   "cell_type": "code",
   "execution_count": 10,
   "metadata": {
    "collapsed": true
   },
   "outputs": [],
   "source": [
    "def greedy_policy_update(v, r, P, Pi):\n",
    "    # get best action for each state\n",
    "    state_action_values = P.dot(r + v)\n",
    "    # generate new policy with deterministic transition\n",
    "    new_Pi = np.zeros((n_states, n_actions))\n",
    "    for s in range(n_states):\n",
    "        if state_action_values[s, 0] == state_action_values[s, 1]:\n",
    "            new_Pi[s, :] = 1./2\n",
    "        elif state_action_values[s, 1] > state_action_values[s, 0]:\n",
    "            new_Pi[s, 1] = 1.\n",
    "        else:\n",
    "            new_Pi[s, 0] = 1.\n",
    "    return new_Pi"
   ]
  },
  {
   "cell_type": "code",
   "execution_count": 11,
   "metadata": {
    "collapsed": false
   },
   "outputs": [
    {
     "name": "stdout",
     "output_type": "stream",
     "text": [
      "Initial policy\n",
      "[[ 0.5  0.5]\n",
      " [ 0.5  0.5]\n",
      " [ 0.5  0.5]\n",
      " [ 0.5  0.5]\n",
      " [ 0.5  0.5]\n",
      " [ 0.5  0.5]\n",
      " [ 0.5  0.5]\n",
      " [ 0.5  0.5]]\n",
      "new iteration\n",
      "new iteration\n",
      "Final policy\n",
      "[[ 0.5  0.5]\n",
      " [ 1.   0. ]\n",
      " [ 1.   0. ]\n",
      " [ 1.   0. ]\n",
      " [ 1.   0. ]\n",
      " [ 1.   0. ]\n",
      " [ 1.   0. ]\n",
      " [ 1.   0. ]]\n"
     ]
    }
   ],
   "source": [
    "# policy iteration\n",
    "Pi = 0.5 * np.ones((n_states, n_actions))\n",
    "v = np.zeros(n_states)\n",
    "print(\"Initial policy\")\n",
    "print(Pi)\n",
    "continue_pi = True\n",
    "while continue_pi:\n",
    "    v, _ = policy_evaluation(v, r, P, Pi)\n",
    "    new_Pi = greedy_policy_update(v, r, P, Pi)\n",
    "    if (Pi == new_Pi).all(): # if not change, stop\n",
    "        continue_pi = False\n",
    "    Pi = new_Pi\n",
    "    print('new iteration')\n",
    "print(\"Final policy\")\n",
    "print(Pi)"
   ]
  },
  {
   "cell_type": "markdown",
   "metadata": {},
   "source": [
    "c) Repeat (b) but don’t do policy evaluation until it converges. Just iterate policy evaluation 2 twice each time. Then repeat policy evaluation and policy improvement until you converge on the optimal policy (and expected value function)."
   ]
  },
  {
   "cell_type": "code",
   "execution_count": 12,
   "metadata": {
    "collapsed": false
   },
   "outputs": [
    {
     "name": "stdout",
     "output_type": "stream",
     "text": [
      "Initial policy\n",
      "[[ 0.5  0.5]\n",
      " [ 0.5  0.5]\n",
      " [ 0.5  0.5]\n",
      " [ 0.5  0.5]\n",
      " [ 0.5  0.5]\n",
      " [ 0.5  0.5]\n",
      " [ 0.5  0.5]\n",
      " [ 0.5  0.5]]\n",
      "New iteration\n",
      "New iteration\n",
      "New iteration\n",
      "New iteration\n",
      "Final policy\n",
      "[[ 0.5  0.5]\n",
      " [ 1.   0. ]\n",
      " [ 1.   0. ]\n",
      " [ 1.   0. ]\n",
      " [ 1.   0. ]\n",
      " [ 1.   0. ]\n",
      " [ 1.   0. ]\n",
      " [ 1.   0. ]]\n"
     ]
    }
   ],
   "source": [
    "# simple policy iteration\n",
    "Pi = 0.5 * np.ones((n_states, n_actions))\n",
    "v = np.zeros(n_states)\n",
    "print(\"Initial policy\")\n",
    "print(Pi)\n",
    "continue_pi = True\n",
    "while continue_pi:\n",
    "    # run policy evaluation twice\n",
    "    v  = v_evaluate(v, r, P, Pi)\n",
    "    v  = v_evaluate(v, r, P, Pi)\n",
    "    new_Pi = greedy_policy_update(v, r, P, Pi)\n",
    "    if (Pi == new_Pi).all(): # if not change, stop\n",
    "        continue_pi = False\n",
    "    Pi = new_Pi\n",
    "    print(\"New iteration\")\n",
    "print(\"Final policy\")\n",
    "print(Pi)"
   ]
  },
  {
   "cell_type": "markdown",
   "metadata": {},
   "source": [
    "## **Q learning (Reinforcement learning)**\n",
    "\n",
    "Use the same grid world as in (1), but learn the optimal policy using Q-learning.\n",
    "Here you will learn the optimal state-action function (`Q(x,u)`).\n",
    "The idea is to move around the world probabilistically according to the `softmax` \n",
    "function – i.e. if all state-action pairs have the same expected value, then you have   equal probability of choosing each action from that state. Then, based on the rewards you experience, update the state-action function according to the update equation we  went through in class."
   ]
  },
  {
   "cell_type": "code",
   "execution_count": 13,
   "metadata": {
    "collapsed": true
   },
   "outputs": [],
   "source": [
    "def softmax(w, temp=1.0):\n",
    "    \"\"\"softmax function with temperature, temp\n",
    "    \"\"\"\n",
    "    w = np.array(w)\n",
    "    e = np.exp(w / temp)\n",
    "    dist = e / np.sum(e)\n",
    "    return dist\n",
    "\n",
    "def weighted_choice(w):\n",
    "    \"\"\"random choice from probability distribution in list or array\n",
    "    \"\"\"\n",
    "    w = np.array(w)\n",
    "    w_cum = np.cumsum(w)\n",
    "    throw = np.random.rand() * w_cum[-1]\n",
    "    return np.searchsorted(w_cum, throw)\n",
    "\n",
    "def choose_action(q):\n",
    "    \"\"\"choose action using based on \n",
    "    \"\"\"\n",
    "    action = weighted_choice(softmax(q))\n",
    "    return action"
   ]
  },
  {
   "cell_type": "code",
   "execution_count": 14,
   "metadata": {
    "collapsed": false
   },
   "outputs": [],
   "source": [
    "n_states = 8\n",
    "n_actions = 2\n",
    "n_iter = 100\n",
    "Q = 0.1 * np.random.rand(n_states, n_actions)\n",
    "alpha = 0.7\n",
    "gamma = 0.4"
   ]
  },
  {
   "cell_type": "code",
   "execution_count": 15,
   "metadata": {
    "collapsed": false
   },
   "outputs": [],
   "source": [
    "# epochs, because we can get stuck in state 0\n",
    "for _ in range(100):\n",
    "    # initial state\n",
    "    s = np.random.randint(n_states) # pick random initial state\n",
    "    for _ in range(200):\n",
    "        # action\n",
    "        a = choose_action(Q[s])\n",
    "        # next state\n",
    "        ns = weighted_choice(P[s, a])\n",
    "        # receive reward\n",
    "        reward_received = r[ns]\n",
    "        # update q value\n",
    "        Q[s, a] = Q[s, a] + alpha*(reward_received + gamma * max(Q[ns]) - Q[s, a])"
   ]
  },
  {
   "cell_type": "code",
   "execution_count": 16,
   "metadata": {
    "collapsed": false
   },
   "outputs": [
    {
     "name": "stdout",
     "output_type": "stream",
     "text": [
      "Final Q values \n",
      " [[  3.12008526e-230   1.51869297e-230]\n",
      " [  4.29404614e-213  -1.40000000e+000]\n",
      " [ -1.00000000e+000  -1.56000000e+000]\n",
      " [ -1.40000000e+000  -1.62400000e+000]\n",
      " [ -1.56000000e+000  -1.64960000e+000]\n",
      " [ -1.62400000e+000  -1.65984000e+000]\n",
      " [ -1.64960000e+000  -1.66382466e+000]\n",
      " [ -1.65984000e+000  -1.66393600e+000]]\n"
     ]
    }
   ],
   "source": [
    "print(\"Final Q values \\n\", Q)"
   ]
  },
  {
   "cell_type": "markdown",
   "metadata": {},
   "source": [
    "We can see that Q-value on left column is always greater than right column which means that we have higher probability to move upward rather than move downward."
   ]
  },
  {
   "cell_type": "markdown",
   "metadata": {},
   "source": [
    "## **Optimal control for dynamical system in discrete time**\n",
    "\n",
    "Take the dynamical system: $x_{t+1} = a * x_t + b * u_t$\n",
    "\n",
    "with cost function: $g(x,u) = q * x^2 + r * u^2$\n",
    "\n",
    "Find the control policy: $u = -k * x$ which minimizes the expected total cost for the trajectory. Use the values: $a = .8; b = 1; q = 1; r = 1.$\n",
    "\n",
    "a. Find the recursive Riccati equations for the gain for this system. This should be the equations in the lecture (if I got it down right) for $p$. You can also derive them again by i) express the total cost to go using the recursive Bellman equation, ii) assume that the optimal value function has a quadratic form $V^{\\ast} = p x^2$, iii) substitute this into the Bellman equation, iv) minimize this with respect to u to find the optimal control policy, v) substitute `u*` into the Bellman equation and solve for the gain `p`."
   ]
  },
  {
   "cell_type": "markdown",
   "metadata": {},
   "source": [
    "a. Assume we have dynamical system $x_{t+1} = a x_t + b u_t$ and \n",
    "cost at each time step $g(x_t, u_t) = q x_t^2 + r u_t^2$\n",
    "where $g_T (x_T) = q x_T^2$ is final cost.\n",
    "\n",
    "\n",
    "- Final condition satisfy $V^* (x_{T}) = q x_{T}^2$\n",
    "- Assume: $V^* (x_{t+1}) = p x_{t+1}^2$\n",
    "- We will show that $V^* (x_t) $ is quardratic i.e. $V^* = px^2$. \n",
    "\n",
    "According to Bellman's equation, \n",
    "\n",
    "\\begin{equation}\n",
    "\\begin{split}\n",
    "V^\\ast & = \\min_{u_t} (g(x_t, u_t) + V^\\ast (x_{t + 1}))\\\\\n",
    "       & = \\min_{u_t} (q x_t^2 + r u_t^2 + p_{t+1} x_{t+1}^2)\\\\\n",
    "       & = \\min_{u_t} (q x_t^2 + r u_t^2 + p_{t+1} (a x_t + b u_t)^2)\n",
    "\\end{split}\n",
    "\\end{equation}\n",
    "\n",
    "We want to minimize this cost with respect to control policy $u_t$. We can take derivative of cost function from Bellman's equation with respect to control, \n",
    "\n",
    "\\begin{equation}\n",
    "\\frac{\\partial V(x_t)}{\\partial u_t} = 2 r u_t + 2 p_{t+1} (a x_t + b u_t) b = 0\n",
    "\\end{equation}\n",
    "\n",
    "Solve for optimal control policy denoted by $u_t^\\ast$, \n",
    "\n",
    "\\begin{equation}\n",
    "\\begin{split}\n",
    "u_t^\\ast (r + p_{t+1} b^2) & = - p_{t+1} a b x_t\\\\\n",
    "u_t^\\ast &= \\frac{- p_{t+1} a b}{r + p_{t+1} b^2} x_t\n",
    "\\end{split}\n",
    "\\end{equation}\n",
    "\n",
    "We can now put this optimal control $u_t^\\ast$ bact to Bellman's equation\n",
    "\n",
    "\\begin{equation}\n",
    "\\begin{split}\n",
    "V^\\ast & = q x_t^2 + r (\\frac{- p_{t+1} a b}{r + p_{t+1} b^2} x_t)^2 + p_{t+1} (a x_t + b (\\frac{- p_{t+1} a b}{r + p_{t+1} b^2} x_t))^2\\\\\n",
    "       & = [q + p_{t+1} a^2 - \\frac{(p_{t+1} a b)^2}{r + p_{t+1} b^2}] x_t^2\n",
    "\\end{split}\n",
    "\\end{equation}\n",
    "\n",
    "Here, we now show that $V^\\ast (x_t)$ is quadratic, \n",
    "\n",
    "\\begin{equation}\n",
    "V^\\ast (x_t) = p_t x_t^2\n",
    "\\end{equation}\n",
    "\n",
    "where\n",
    "\n",
    "\\begin{equation}\n",
    "p_{t} = q + p_{t+1} a^2 - \\frac{(p_{t+1} a b)^2}{r + p_{t+1} b^2}\n",
    "\\end{equation}\n",
    "\n",
    "which is the Riccati equation"
   ]
  },
  {
   "cell_type": "markdown",
   "metadata": {},
   "source": [
    "b. Find the steady state optimal control gain, using the Riccati equation. The equation gives $p_{t-1} = f(p_t)$. So initialize $p(T) = q(T)$ , where $T$ is the final time and $q(T)$ is the cost at the final time. Then iterate the Riccati equations backwards until you reach a steady state value. Plot the evolution of $p$ over iterations."
   ]
  },
  {
   "cell_type": "code",
   "execution_count": 17,
   "metadata": {
    "collapsed": true
   },
   "outputs": [],
   "source": [
    "# dynamics constant\n",
    "a = 0.8\n",
    "b = 1.0\n",
    "q = 1.0\n",
    "r = 1.0"
   ]
  },
  {
   "cell_type": "code",
   "execution_count": 18,
   "metadata": {
    "collapsed": false
   },
   "outputs": [],
   "source": [
    "T = 100\n",
    "p = np.zeros(T)\n",
    "p[T-1] = q"
   ]
  },
  {
   "cell_type": "code",
   "execution_count": 19,
   "metadata": {
    "collapsed": false
   },
   "outputs": [],
   "source": [
    "T = 100\n",
    "p_list = list()\n",
    "p_list.append(q)\n",
    "for t in range(T):\n",
    "    p_old = p_list[-1]\n",
    "    p = q + p_old * (a**2) - (p_old * a * b)**2/(r + p_old * (b**2))\n",
    "    p_list.append(p)\n",
    "    if np.linalg.norm(p_old - p) < 1e-4: \n",
    "        break"
   ]
  },
  {
   "cell_type": "code",
   "execution_count": 20,
   "metadata": {
    "collapsed": false
   },
   "outputs": [
    {
     "data": {
      "image/png": "[encoded data removed]",
      "text/plain": [
       "<matplotlib.figure.Figure at 0x1083666a0>"
      ]
     },
     "metadata": {},
     "output_type": "display_data"
    }
   ],
   "source": [
    "plt.plot(p_list)\n",
    "plt.title('Evolution of $p$ over iteration')\n",
    "plt.xlabel('iteration')\n",
    "plt.ylabel('$p_t$')\n",
    "plt.show()"
   ]
  },
  {
   "cell_type": "markdown",
   "metadata": {},
   "source": [
    "The control can be obtained:\n",
    "\n",
    "\\begin{equation}\n",
    "    u_t^\\ast = \\frac{-p_{t+1} a b }{r + p_t b^2} x_t\n",
    "\\end{equation}\n",
    "\n",
    "where control gain, \n",
    "\\begin{equation}\n",
    "K = \\frac{p_{t+1} a b }{r + p_t b^2}\n",
    "\\end{equation}\n",
    "\n",
    "in steady state, we can assume that $p_t$ and $p_{t+1}$ converge to the same value"
   ]
  },
  {
   "cell_type": "code",
   "execution_count": 21,
   "metadata": {
    "collapsed": false
   },
   "outputs": [
    {
     "name": "stdout",
     "output_type": "stream",
     "text": [
      "Steady state optimal control gain K = 0.462439\n"
     ]
    }
   ],
   "source": [
    "# steady state optimal control gain (compare below with `dare` solver)\n",
    "p = p_list[-1] \n",
    "K = (p * a * b)/((p * b**2) + r)\n",
    "print('Steady state optimal control gain K = %f' % K)"
   ]
  },
  {
   "cell_type": "markdown",
   "metadata": {},
   "source": [
    "c. Do control. Choose an arbitrary starting state for $x$ and then evolve your system over time, as dictated by the equations above. At each time step calculate the $u^{\\ast}$ according to the optimal control gain found using the Riccati equations above."
   ]
  },
  {
   "cell_type": "code",
   "execution_count": 22,
   "metadata": {
    "collapsed": false
   },
   "outputs": [],
   "source": [
    "T = 50 # says we consider time step of 50\n",
    "p = np.zeros(T)\n",
    "u = np.zeros(T)\n",
    "x = np.zeros(T)\n",
    "p[T-1] = q\n",
    "for t in range(T-1, 0, -1):\n",
    "    p[t-1] = q + p[t] * (a**2) - (p[t] * a * b)**2/(r + p[t] * (b**2))"
   ]
  },
  {
   "cell_type": "code",
   "execution_count": 23,
   "metadata": {
    "collapsed": true
   },
   "outputs": [],
   "source": [
    "# find control\n",
    "x = np.zeros(T)\n",
    "x[0] = 1\n",
    "for t in range(T-1):\n",
    "    u[t] = - (p[t+1] * a * b)/((p[t+1] * b**2) + r) * x[t] # control\n",
    "    x[t+1] = a * x[t] + b * u[t]"
   ]
  },
  {
   "cell_type": "code",
   "execution_count": 24,
   "metadata": {
    "collapsed": false
   },
   "outputs": [
    {
     "data": {
      "image/png": "[encoded data removed]",
      "text/plain": [
       "<matplotlib.figure.Figure at 0x10b8ac278>"
      ]
     },
     "metadata": {},
     "output_type": "display_data"
    }
   ],
   "source": [
    "plt.plot(u)\n",
    "plt.xlabel('time step')\n",
    "plt.ylabel('control signal $u$')\n",
    "plt.show()"
   ]
  },
  {
   "cell_type": "markdown",
   "metadata": {},
   "source": [
    "d. Find the same gains by brute force. Go sequentially through a series of different gains (either $p$ or $K$), simulate the system as in (c) above and calculate the cost for each trajectory. Find the trajectory with the minimal cost. Compare the corresponding gain with that calculated using the Riccati equations above."
   ]
  },
  {
   "cell_type": "code",
   "execution_count": 25,
   "metadata": {
    "collapsed": false
   },
   "outputs": [
    {
     "name": "stdout",
     "output_type": "stream",
     "text": [
      "Trajectory cost without control signal = 2.777778\n"
     ]
    }
   ],
   "source": [
    "x[0] = -1 # arbitrary starting point\n",
    "for t in range(T-1):\n",
    "    x[t + 1] = a * x[t]\n",
    "\n",
    "g = np.zeros(T)\n",
    "for t in range(T-1):\n",
    "    g[t] = q * x[t]**2\n",
    "traj_cost = np.sum(g)\n",
    "print('Trajectory cost without control signal = %f' % traj_cost)"
   ]
  },
  {
   "cell_type": "code",
   "execution_count": 26,
   "metadata": {
    "collapsed": false
   },
   "outputs": [
    {
     "data": {
      "image/png": "[encoded data removed]",
      "text/plain": [
       "<matplotlib.figure.Figure at 0x10b64a358>"
      ]
     },
     "metadata": {},
     "output_type": "display_data"
    }
   ],
   "source": [
    "plt.plot(x)\n",
    "plt.xlabel('time step')\n",
    "plt.ylabel('trajectory $x$')\n",
    "plt.title('trajectory of position $x$ without control signal')\n",
    "plt.show()"
   ]
  },
  {
   "cell_type": "code",
   "execution_count": 27,
   "metadata": {
    "collapsed": false
   },
   "outputs": [],
   "source": [
    "x = np.zeros(T)\n",
    "x[0] = -1\n",
    "for t in range(T-1):\n",
    "    u[t] = - (p[t+1] * a * b)/((p[t+1] * b**2) + r) * x[t]\n",
    "    x[t+1] = a * x[t] + b * u[t]"
   ]
  },
  {
   "cell_type": "code",
   "execution_count": 28,
   "metadata": {
    "collapsed": false
   },
   "outputs": [
    {
     "data": {
      "image/png": "[encoded data removed]",
      "text/plain": [
       "<matplotlib.figure.Figure at 0x10b8e7710>"
      ]
     },
     "metadata": {},
     "output_type": "display_data"
    }
   ],
   "source": [
    "plt.plot(x)\n",
    "plt.xlabel('time step')\n",
    "plt.ylabel('trajectory $x$ with control signal')\n",
    "plt.show()"
   ]
  },
  {
   "cell_type": "code",
   "execution_count": 29,
   "metadata": {
    "collapsed": false
   },
   "outputs": [
    {
     "name": "stdout",
     "output_type": "stream",
     "text": [
      "Minimum trajectory cost (applying control) = 1.369952\n"
     ]
    }
   ],
   "source": [
    "# calculate cost over trajectory\n",
    "g = np.zeros(T)\n",
    "for t in range(T-1):\n",
    "    g[t] = q * x[t]**2 + r * u[t]**2\n",
    "traj_cost = np.sum(g)\n",
    "print('Minimum trajectory cost (applying control) = %f' % traj_cost)"
   ]
  },
  {
   "cell_type": "markdown",
   "metadata": {},
   "source": [
    "e. (optional) Find the same gains using matlab. Use the functions `dlqr` and `dare` (discrete time LQR control, discrete time algebraic riccati equations) with the system parameters to find the optimal gains. Compare with the results from above."
   ]
  },
  {
   "cell_type": "code",
   "execution_count": 30,
   "metadata": {
    "collapsed": false
   },
   "outputs": [
    {
     "name": "stdout",
     "output_type": "stream",
     "text": [
      "Steady state gain solving by `dlqr` or `discrete_are`, K = 0.462440\n"
     ]
    }
   ],
   "source": [
    "def dlqr(a, b, q, r):\n",
    "    \"\"\"Solve steady state discrete LQR for \n",
    "        x_(t+1) = a x_t + b u_t\n",
    "    with cost\n",
    "        g = q x**2 + r u**2\n",
    "    replicate dlqr in Matlab\n",
    "    \"\"\"\n",
    "    #ref Bertsekas, p.151\n",
    "    a = np.matrix(a)\n",
    "    b = np.matrix(b)\n",
    "    q = np.matrix(q)\n",
    "    r = np.matrix(r)\n",
    "    p = np.matrix(scipy.linalg.solve_discrete_are(a, b, q, r))\n",
    "    K = (p * a * b)/((p * b**2) + r)\n",
    "    eig_vals, _ = np.linalg.eig(a - b*K)\n",
    "    return K, p, eig_vals\n",
    "\n",
    "import scipy.linalg\n",
    "K, _, _ = dlqr(a,b,q,r)\n",
    "print('Steady state gain solving by `dlqr` or `discrete_are`, K = %f' % K)"
   ]
  },
  {
   "cell_type": "markdown",
   "metadata": {},
   "source": [
    "Optimal gain in steady state is the same either from `dlqr` (`dare`) equation or solve directly using Riccati equation"
   ]
  },
  {
   "cell_type": "markdown",
   "metadata": {
    "collapsed": true
   },
   "source": [
    "## **Optimal estimation using Kalman filtering**\n",
    "\n",
    "Take second order dynamical system in discrete time:\n",
    "\n",
    "\\begin{align}\n",
    "x_{t+1} = A * x_t + B * u_t + w_t\\\\\n",
    "y_t = C * x_t + v_t\n",
    "\\end{align}\n",
    "\n",
    "with $E(w_t w_t^T) = Q$ and $E(v_t v_t^T) = R$.\n",
    "\n",
    "Find the recursive update equations to do optimal estimation, consisting of the iterative steps (b,c,d) below. Use the difference equation:\n",
    "\n",
    "\\begin{equation}\n",
    "x_{t+2} + 0.9 * x_{t+1} + 0.1 * x_t = u_t\n",
    "\\end{equation}\n",
    "\n",
    "You should simulate the dynamical system above, propagating the state according the update equation, generating random noise at each iteration (use the multivariate normal function mvnrnd – or just use `normrnd` for each dimension separately and assume that `Q` and `R` are diagonal). Choose different values of Q and R to examine effects of measurement and process noise."
   ]
  },
  {
   "cell_type": "markdown",
   "metadata": {},
   "source": [
    "**Ans.** We can write the given equation as follows\n",
    "\n",
    "$$ \\begin{bmatrix}\n",
    "x_{t+1}\\\\x_{t+2}\n",
    "\\end{bmatrix} = \n",
    "\\begin{bmatrix} 0 & 1\\\\-0.1 & -0.9 \\end{bmatrix} \n",
    "\\begin{bmatrix} x_t \\\\ x_{t+1} \\end{bmatrix}\n",
    "+ \\begin{bmatrix} 0 \\\\ 1 \\end{bmatrix} u_t + w_t $$ \n",
    "\n",
    "that is,\n",
    "\n",
    "$$A = \\begin{bmatrix} 0 & 1\\\\-0.1 & -0.9 \\end{bmatrix}, B = \\begin{bmatrix} 0 \\\\ 1 \\end{bmatrix}$$\n",
    "\n",
    "Assuming we can observe position output, we can write,\n",
    "\n",
    "$$y_t = \\begin{bmatrix} 1 & 0 \\end{bmatrix} x_t + v_t$$\n",
    "\n",
    "here, we have $C = \\begin{bmatrix} 1 & 0 \\end{bmatrix}$\n",
    "\n",
    "Below, we will propagate the system over `T` iterations"
   ]
  },
  {
   "cell_type": "code",
   "execution_count": 31,
   "metadata": {
    "collapsed": false
   },
   "outputs": [],
   "source": [
    "import numpy as np\n",
    "from numpy.linalg import inv\n",
    "import matplotlib.pyplot as plt\n",
    "%matplotlib inline"
   ]
  },
  {
   "cell_type": "code",
   "execution_count": 32,
   "metadata": {
    "collapsed": false
   },
   "outputs": [],
   "source": [
    "# state transition matrix\n",
    "A = np.array([[0, 1], [-0.1, -0.9]])\n",
    "B = np.array([[0], [1]])\n",
    "C = np.array([[1, 0]])\n",
    "x0 = np.array([[1], [0]]) # initial position\n",
    "Q = np.array([[0.001, 0.0], [0.0, 0.001]])\n",
    "R = np.array([[0.01]])\n",
    "u = np.array([[0.0]]) # assume no input over iteration for now"
   ]
  },
  {
   "cell_type": "code",
   "execution_count": 33,
   "metadata": {
    "collapsed": false
   },
   "outputs": [],
   "source": [
    "T = 30\n",
    "x = list() # list to collect state over iterations\n",
    "y = list() # list to collect observed over iterations\n",
    "x.append(x0)\n",
    "for i in range(T):\n",
    "    w_t = np.atleast_2d(np.random.multivariate_normal([0, 0], Q)).T\n",
    "    v_t = np.atleast_2d(np.random.multivariate_normal([0], R))\n",
    "    x_t = A.dot(x[-1]) + w_t + B.dot(u)\n",
    "    y_t = C.dot(x[-1]) + v_t\n",
    "    x.append(x_t)\n",
    "    y.append(y_t)\n",
    "x_all = np.hstack(x).T\n",
    "y_all = np.hstack(y).T"
   ]
  },
  {
   "cell_type": "code",
   "execution_count": 34,
   "metadata": {
    "collapsed": false
   },
   "outputs": [
    {
     "data": {
      "image/png": "[encoded data removed]",
      "text/plain": [
       "<matplotlib.figure.Figure at 0x1083bc908>"
      ]
     },
     "metadata": {},
     "output_type": "display_data"
    }
   ],
   "source": [
    "plt.plot(x_all)\n",
    "plt.xlabel('iteration')\n",
    "plt.ylabel('$x_t$')\n",
    "plt.title('state value over iteration')\n",
    "plt.show()"
   ]
  },
  {
   "cell_type": "code",
   "execution_count": 35,
   "metadata": {
    "collapsed": false
   },
   "outputs": [
    {
     "data": {
      "image/png": "[encoded data removed]",
      "text/plain": [
       "<matplotlib.figure.Figure at 0x112cc4e80>"
      ]
     },
     "metadata": {},
     "output_type": "display_data"
    }
   ],
   "source": [
    "plt.plot(y_all)\n",
    "plt.xlabel('iteration')\n",
    "plt.ylabel('$y_t$')\n",
    "plt.title('measurement over iteration')\n",
    "plt.show()"
   ]
  },
  {
   "cell_type": "markdown",
   "metadata": {},
   "source": [
    "a. Choose arbitrary initial guesses for `x` and the confidence in `x`, given by the error covariance `sigma_0`."
   ]
  },
  {
   "cell_type": "code",
   "execution_count": 36,
   "metadata": {
    "collapsed": true
   },
   "outputs": [],
   "source": [
    "sigma_0 = np.array([[0.01, 0.0], [0.0, 0.01]]) # confidence in x\n",
    "x_est_0 = np.array([[1.5], [0]]) # initial guess for x"
   ]
  },
  {
   "cell_type": "markdown",
   "metadata": {},
   "source": [
    "b. Propagate the estimates forward in time to get a prediction of the state. These are the equations involving the state transition matrix `A`."
   ]
  },
  {
   "cell_type": "code",
   "execution_count": 37,
   "metadata": {
    "collapsed": false
   },
   "outputs": [
    {
     "name": "stdout",
     "output_type": "stream",
     "text": [
      "Prediction of the state = \n",
      " [[ 0.  ]\n",
      " [-0.15]]\n"
     ]
    }
   ],
   "source": [
    "# prediction of the state\n",
    "x_pred = A.dot(x_est_0) + B.dot(u)\n",
    "print('Prediction of the state = \\n', x_pred)"
   ]
  },
  {
   "cell_type": "markdown",
   "metadata": {},
   "source": [
    "c. Calculate the Kalman gain."
   ]
  },
  {
   "cell_type": "code",
   "execution_count": 38,
   "metadata": {
    "collapsed": true
   },
   "outputs": [],
   "source": [
    "P = A.dot(sigma_0).dot(A.T) + Q\n",
    "K = P.dot(C.T).dot(inv(C.dot(P).dot(C.T) + R)) # Kalman gain"
   ]
  },
  {
   "cell_type": "code",
   "execution_count": 39,
   "metadata": {
    "collapsed": false
   },
   "outputs": [
    {
     "name": "stdout",
     "output_type": "stream",
     "text": [
      "Kalman gain = \n",
      " [[ 0.52380952]\n",
      " [-0.42857143]]\n"
     ]
    }
   ],
   "source": [
    "print('Kalman gain = \\n', K)"
   ]
  },
  {
   "cell_type": "markdown",
   "metadata": {},
   "source": [
    "d. Update the estimates, using the new measurement $y_t$ and the predictions found in b."
   ]
  },
  {
   "cell_type": "code",
   "execution_count": 40,
   "metadata": {
    "collapsed": false
   },
   "outputs": [
    {
     "name": "stdout",
     "output_type": "stream",
     "text": [
      "Estimate of state x_t = \n",
      " [[ 0.08287344]\n",
      " [-0.21780554]]\n"
     ]
    }
   ],
   "source": [
    "x_est = x_pred + K.dot(y[1] - C.dot(x_pred)) # update using new measurement\n",
    "print('Estimate of state x_t = \\n', x_est)"
   ]
  },
  {
   "cell_type": "markdown",
   "metadata": {},
   "source": [
    "e. Repeat the steps b-d as your system evolves. Plot the actual state of the system vs. the state predicted in d, along with the measurements – how much does the estimate pay attention to the measurement noise? Use different values for the measurement noise R to see how the filter switches between being data driven vs. prediction driven."
   ]
  },
  {
   "cell_type": "code",
   "execution_count": 41,
   "metadata": {
    "collapsed": true
   },
   "outputs": [],
   "source": [
    "T = 30\n",
    "sigma_0 = np.array([[0.01, 0.0], [0.0, 0.01]]) # confidence in x\n",
    "x_est_0 = np.array([[1.5], [0]]) # initial guess for x"
   ]
  },
  {
   "cell_type": "code",
   "execution_count": 42,
   "metadata": {
    "collapsed": false
   },
   "outputs": [],
   "source": [
    "Q = np.array([[0.001, 0.0], [0.0, 0.001]])\n",
    "R = np.array([[0.01]])\n",
    "x_est_all = list()\n",
    "sigma_est_all = list()\n",
    "x_est_all.append(x_est_0)\n",
    "sigma_est_all.append(sigma_0)\n",
    "\n",
    "for t in range(T):\n",
    "    # update\n",
    "    x_pred = A.dot(x_est_all[-1]) + B.dot(u)\n",
    "    P = A.dot(sigma_est_all[-1]).dot(A.T) + Q\n",
    "    \n",
    "    # kalman gain\n",
    "    K = P.dot(C.T).dot(inv(C.dot(P).dot(C.T) + R))\n",
    "    x_est = x_pred + K.dot(y[t] - C.dot(x_pred))\n",
    "    sigma_est = (np.eye(2) - K.dot(C)).dot(P)\n",
    "    \n",
    "    # append result\n",
    "    x_est_all.append(x_est)\n",
    "    sigma_est_all.append(sigma_est)\n",
    "x_est_all = np.hstack(x_est_all).T"
   ]
  },
  {
   "cell_type": "code",
   "execution_count": 43,
   "metadata": {
    "collapsed": false
   },
   "outputs": [
    {
     "data": {
      "image/png": "[encoded data removed]",
      "text/plain": [
       "<matplotlib.figure.Figure at 0x112e83e10>"
      ]
     },
     "metadata": {},
     "output_type": "display_data"
    }
   ],
   "source": [
    "plt.plot(x_est_all[:, 0])\n",
    "plt.plot(x_all[:, 0])\n",
    "plt.legend(['estimated state', 'actual state'])\n",
    "plt.xlabel('time step')\n",
    "plt.title('position and velocity estimate')\n",
    "plt.show()"
   ]
  },
  {
   "cell_type": "markdown",
   "metadata": {},
   "source": [
    "Here, we increase $R$ value, which mean that we rely more one state but not measurement (since the noise is quite high). We get more smooth estimate trajectory as you can see below"
   ]
  },
  {
   "cell_type": "code",
   "execution_count": 44,
   "metadata": {
    "collapsed": true
   },
   "outputs": [],
   "source": [
    "Q = np.array([[0.001, 0.0], [0.0, 0.001]])\n",
    "R = np.array([[0.1]])\n",
    "x_est_all = list()\n",
    "sigma_est_all = list()\n",
    "x_est_all.append(x_est_0)\n",
    "sigma_est_all.append(sigma_0)\n",
    "\n",
    "for t in range(T-1):\n",
    "    # update\n",
    "    x_pred = A.dot(x_est_all[-1]) + B.dot(u)\n",
    "    P = A.dot(sigma_est_all[-1]).dot(A.T) + Q\n",
    "    \n",
    "    # kalman gain\n",
    "    K = P.dot(C.T).dot(inv(C.dot(P).dot(C.T) + R))\n",
    "    x_est = x_pred + K.dot(y[t] - C.dot(x_pred))\n",
    "    sigma_est = (np.eye(2) - K.dot(C)).dot(P)\n",
    "    \n",
    "    # append result\n",
    "    x_est_all.append(x_est)\n",
    "    sigma_est_all.append(sigma_est)\n",
    "x_est_all = np.hstack(x_est_all).T"
   ]
  },
  {
   "cell_type": "code",
   "execution_count": 45,
   "metadata": {
    "collapsed": false
   },
   "outputs": [
    {
     "data": {
      "image/png": "[encoded data removed]",
      "text/plain": [
       "<matplotlib.figure.Figure at 0x112e293c8>"
      ]
     },
     "metadata": {},
     "output_type": "display_data"
    }
   ],
   "source": [
    "plt.plot(x_est_all[:, 0])\n",
    "plt.plot(x_all[:, 0])\n",
    "plt.legend(['estimated state', 'actual state'])\n",
    "plt.xlabel('time step')\n",
    "plt.title('position and velocity estimate')\n",
    "plt.show()"
   ]
  },
  {
   "cell_type": "markdown",
   "metadata": {},
   "source": [
    "(follow problem 4d) Use different system dynamics to simulate different systems, or add a control signal in there as well to see how it tracks.\n",
    "\n",
    "We'll try tracking simple dynamical system with accerelation. This is example from Student Dave's on Kalman filter.\n",
    "\n",
    "\\begin{equation}\n",
    "x_t = x_{t-1} + v_{t-1} t + \\frac{1}{2} a_{t} T^2\\\\\n",
    "v_t = v_{t-1} + a_{t} T\n",
    "\\end{equation}\n",
    "\n",
    "\\begin{equation}\n",
    "\\mathbf{x}_t = \n",
    "\\begin{bmatrix} x_t\\\\ v_t \\end{bmatrix} = \n",
    "\\begin{bmatrix} 1 & T\\\\ 0 & 1 \\end{bmatrix} \n",
    "\\begin{bmatrix} x_{t-1} \\\\ v_{t-1} \\end{bmatrix} \n",
    "+ \\begin{bmatrix} T^2 \\\\ T \\end{bmatrix} u_t + w_t \n",
    "\\end{equation}\n",
    "\n",
    "we assume measurement is just position\n",
    "\n",
    "$$y_t = \\begin{bmatrix} 1 & 0 \\end{bmatrix} \\mathbf{x}_t + v_t$$\n",
    "\n",
    "where $T$ is time step in second before we measure position again.\n",
    "\n",
    "First, we will simulate the system."
   ]
  },
  {
   "cell_type": "code",
   "execution_count": 46,
   "metadata": {
    "collapsed": true
   },
   "outputs": [],
   "source": [
    "# state transition matrix\n",
    "dt = 0.1\n",
    "t_total = 8\n",
    "A = np.array([[1, dt], [0, 1]])\n",
    "B = np.array([[dt**2], [dt]])\n",
    "C = np.array([[1, 0]])\n",
    "x0 = np.array([[0], [0]]) # initial position\n",
    "Q = np.array([[0.5, 0.0], [0.0, 0.5]])\n",
    "R = np.array([[15]])\n",
    "u = np.array([[1.5]]) # control affect acceleration"
   ]
  },
  {
   "cell_type": "code",
   "execution_count": 47,
   "metadata": {
    "collapsed": false
   },
   "outputs": [],
   "source": [
    "x = list() # list to collect state over iterations\n",
    "y = list() # list to collect observed over iterations\n",
    "x.append(x0)\n",
    "for i in range(100):\n",
    "    w_t = np.atleast_2d(np.random.multivariate_normal([0, 0], Q)).T\n",
    "    v_t = np.atleast_2d(np.random.multivariate_normal([0], R))\n",
    "    x_t = A.dot(x[-1]) + w_t + B.dot(u)\n",
    "    y_t = C.dot(x[-1]) + v_t\n",
    "    x.append(x_t)\n",
    "    y.append(y_t)\n",
    "x_all = np.hstack(x).T\n",
    "y_all = np.hstack(y).T"
   ]
  },
  {
   "cell_type": "code",
   "execution_count": 48,
   "metadata": {
    "collapsed": false
   },
   "outputs": [
    {
     "data": {
      "image/png": "[encoded data removed]",
      "text/plain": [
       "<matplotlib.figure.Figure at 0x11339bb70>"
      ]
     },
     "metadata": {},
     "output_type": "display_data"
    },
    {
     "data": {
      "image/png": "[encoded data removed]",
      "text/plain": [
       "<matplotlib.figure.Figure at 0x1132dd278>"
      ]
     },
     "metadata": {},
     "output_type": "display_data"
    }
   ],
   "source": [
    "plt.plot(x_all)\n",
    "plt.xlabel('iteration')\n",
    "plt.ylabel('$y_t$')\n",
    "plt.title('State: Position and velocity ($x_t$)')\n",
    "plt.show()\n",
    "\n",
    "plt.plot(y_all)\n",
    "plt.xlabel('iteration')\n",
    "plt.ylabel('$y_t$')\n",
    "plt.title('Measurement of the system ($y_t$)')\n",
    "plt.show()"
   ]
  },
  {
   "cell_type": "markdown",
   "metadata": {},
   "source": [
    "now, we will perform Kalman filter to estimate state"
   ]
  },
  {
   "cell_type": "code",
   "execution_count": 49,
   "metadata": {
    "collapsed": true
   },
   "outputs": [],
   "source": [
    "x_est_all = list()\n",
    "sigma_est_all = list()\n",
    "x_est_0 = np.array([[0], [0]])\n",
    "sigma_0 = np.array([[0.1, 0], [0, 0.1]])\n",
    "Q = np.array([[0.5, 0.0], [0.0, 0.5]])\n",
    "R = np.array([[60]])\n",
    "x_est_all.append(x_est_0)\n",
    "sigma_est_all.append(sigma_0)\n",
    "\n",
    "for t in range(100):\n",
    "    # update\n",
    "    x_pred = A.dot(x_est_all[-1]) + B.dot(u)\n",
    "    P = A.dot(sigma_est_all[-1]).dot(A.T) + Q\n",
    "    \n",
    "    # Kalman gain\n",
    "    K = P.dot(C.T).dot(inv(C.dot(P).dot(C.T) + R))\n",
    "    x_est = x_pred + K.dot(y[t] - C.dot(x_pred))\n",
    "    sigma_est = (np.eye(2) - K.dot(C)).dot(P)\n",
    "    \n",
    "    # append result\n",
    "    x_est_all.append(x_est)\n",
    "    sigma_est_all.append(sigma_est)\n",
    "x_est_all = np.hstack(x_est_all).T"
   ]
  },
  {
   "cell_type": "code",
   "execution_count": 50,
   "metadata": {
    "collapsed": false
   },
   "outputs": [
    {
     "data": {
      "image/png": "[encoded data removed]",
      "text/plain": [
       "<matplotlib.figure.Figure at 0x1133accf8>"
      ]
     },
     "metadata": {},
     "output_type": "display_data"
    }
   ],
   "source": [
    "plt.plot(x_est_all[:,0])\n",
    "plt.plot(y_all)\n",
    "plt.legend(['estimate state', 'measurement'])\n",
    "plt.show()"
   ]
  },
  {
   "cell_type": "markdown",
   "metadata": {},
   "source": [
    "that is, we can estimate state based on Kalman filter. In this case, again, we rely more on state but not measurement since it is pretty noisy."
   ]
  },
  {
   "cell_type": "markdown",
   "metadata": {},
   "source": [
    "## **Optimal control for continuous time, second order system**\n",
    "\n",
    "Take the second order system:\n",
    "\n",
    "\\begin{equation}\n",
    "a + b v + k x = u\n",
    "\\end{equation}\n",
    "\n",
    "with acceleration `a`, velocity `v`, position `x`, and driving force `u`, and stiffness `k` and damping `b`. Use the values: `k = 10`, `b = -0.2`. Express the system in state space form:\n",
    "\n",
    "\\begin{equation}\n",
    "\\frac{dx}{dt} = A * x + B * u\n",
    "\\end{equation}\n",
    "\n",
    "($x$ is a 2 x 1 vector with position and velocity, $A$ is a 2 x 2 matrix with elements\n",
    "of [0, 1] and b and k, B is a 2 x 1 vector and u is a scalar). Assume quadratic cost function:\n",
    "\n",
    "\\begin{equation}\n",
    "g(x,u) = x^T Q x + u^T R u\n",
    "\\end{equation}\n",
    "\n",
    "Find the optimal control policy $u^* = -K * x$ to minimize the above cost.\n",
    "\n",
    "Do a – d as above. You need the continuous time Riccati matrix equations. We did not cover this in class so you will need to find them. The principle is the same as the DT case though. In this case the Ricatti equations will be a differential equation that calculates the Riccati coefficients, starting from the terminal state then going backwards. This will be a differential equation `Pdot = f(P,A,B,Q,R)`. The procedure is the same though: choose initial conditions `P = Q(T)`, then evolve the system backwards in time using the differential equation – you need to use one of matlab’s differential equation integrators (ode45 should be good) to evolve the system. Give it enough time to reach steady state. Then use this gain to calculate the control gain, using the equations from the lecture. Simulate the system with these gains (again using `ode45` to simulate the system dynamics).\n",
    "\n",
    "\n",
    "Then figure out the optimal control gains using brute force – `K` is a `2 x 1` vector so go through a series of possible gains (e.g `K(1) = 0:.1:3` and `K(2) = 0:.1:3`) and evaluate the system for each of these gains.\n",
    "\n",
    "Compare the gains found using each method.\n"
   ]
  },
  {
   "cell_type": "markdown",
   "metadata": {},
   "source": [
    "**Ans.** from given equation, we can write down as \n",
    "$$\\ddot{x} + b \\dot{x} + k x = u$$\n",
    "\n",
    "Therefore, \n",
    "\n",
    "$$\\frac{d}{dt}\\begin{bmatrix}x \\\\ \\dot{x}\\end{bmatrix} = \n",
    "\\begin{bmatrix} 0 & 1 \\\\ -k & -b \\end{bmatrix} \\begin{bmatrix}x \\\\ \\dot{x}\\end{bmatrix} + \\begin{bmatrix}0 \\\\ 1\\end{bmatrix} u_t$$\n",
    "\n",
    "that is \n",
    "\n",
    "$$A = \\begin{bmatrix} 0 & 1 \\\\ -k & -b \\end{bmatrix} = \\begin{bmatrix} 0 & 1 \\\\ -10 & -0.2 \\end{bmatrix}, B = \\begin{bmatrix} 0 \\\\ 1 \\end{bmatrix} $$\n",
    "\n",
    "Says, we pick quardratic function cost, \n",
    "\n",
    "$$g_t(x,u) = x^T Q x + u^T R u = x^T \\begin{bmatrix} 10 & 0 \\\\ 0 & 0.1 \\end{bmatrix} + u^T \\begin{bmatrix} 1 \\end{bmatrix} u$$\n",
    "\n",
    "that is $Q = \\begin{bmatrix} 10 & 0 \\\\ 0 & 0.1 \\end{bmatrix}$ and $R = 1$\n",
    "\n",
    "Cost over trajectory from $t = 0$ to $t = T$, \n",
    "\n",
    "$$L = \\int_{t=0}^{t=T} [x^T Q x + u^T R u]dt + x^T Q_T x = \\int_{t=0}^{t=T} x^T \\begin{bmatrix} 10 & 0 \\\\ 0 & 0.1 \\end{bmatrix} x + u^T \\begin{bmatrix} 1 \\end{bmatrix} u] dt + x^T Q_T x$$ \n",
    "\n",
    "where $Q_T$ is terminal cost that we can select\n",
    "\n",
    "here, we will choose terminal cost \n",
    "\n",
    "$$Q_T = \\begin{bmatrix} 0 & 0 \\\\ 0 & 0 \\end{bmatrix}$$\n",
    "\n",
    "Continuous time Riccati differential equation (RDE) can be written as follows (I don't prove it here, grab from Liberzon, Calculus of Variations and Optimal Control Theory, chapter 6)\n",
    "\n",
    "$$\\dot{P}(t) = - P(t) A(t) - A^T(t) P(t) - Q(t) + P(t) B(t) R^{-1}(t) B^T(t) P(t)$$\n",
    "\n",
    "In this case, system is linear, we can simplify the equation to, \n",
    "\n",
    "$$\\dot{P}(t) = - P(t) A - A^T P(t) - Q(t) + P(t) B R^{-1} B^T P(t)$$\n",
    "\n",
    "a. steady state gain can be derived by algebraic Riccati equation (ARE)\n",
    "\n",
    "$$PA + A^T P + Q - P B R^{-1} B^{T} P = 0$$ \n",
    "\n",
    "which can be solved using Matlab or Python"
   ]
  },
  {
   "cell_type": "code",
   "execution_count": 51,
   "metadata": {
    "collapsed": true
   },
   "outputs": [],
   "source": [
    "import numpy as np\n",
    "from scipy.integrate import odeint\n",
    "from scipy.linalg import solve_continuous_are\n",
    "import matplotlib.pyplot as plt\n",
    "%matplotlib inline"
   ]
  },
  {
   "cell_type": "code",
   "execution_count": 52,
   "metadata": {
    "collapsed": true
   },
   "outputs": [],
   "source": [
    "n_state = 2 # number of states in state equation\n",
    "A = np.array([[0, 1], [-10., -0.2]])\n",
    "B = np.array([[0], [1]])\n",
    "Q = np.array([[10.0, 0.0], [0.0, 0.1]])\n",
    "R = np.array([[1]])\n",
    "T = 10"
   ]
  },
  {
   "cell_type": "code",
   "execution_count": 53,
   "metadata": {
    "collapsed": true
   },
   "outputs": [],
   "source": [
    "P = solve_continuous_are(A, B, Q, R) # steady state solution of Riccati eq's\n",
    "K = -(1/R).dot(B.T).dot(P) # steady state gain"
   ]
  },
  {
   "cell_type": "code",
   "execution_count": 54,
   "metadata": {
    "collapsed": false
   },
   "outputs": [
    {
     "name": "stdout",
     "output_type": "stream",
     "text": [
      "At steady state, P will converge to \n",
      "  [[ 9.0805896   0.48808848]\n",
      " [ 0.48808848  0.85649277]]\n",
      "Final gain =  [[-0.48808848 -0.85649277]]\n"
     ]
    }
   ],
   "source": [
    "print('At steady state, P will converge to \\n ', P)\n",
    "print('Final gain = ', K)"
   ]
  },
  {
   "cell_type": "markdown",
   "metadata": {},
   "source": [
    "b. we can also solve continuous time Riccati equation as stated above and find the steady state gain"
   ]
  },
  {
   "cell_type": "code",
   "execution_count": 55,
   "metadata": {
    "collapsed": true
   },
   "outputs": [],
   "source": [
    "n = T/0.1 + 1\n",
    "tr = np.linspace(0, -T, n) # reverse time for solving Riccati\n",
    "PT = np.array([[0, 0], [0, 0]]) # terminal cost"
   ]
  },
  {
   "cell_type": "code",
   "execution_count": 56,
   "metadata": {
    "collapsed": true
   },
   "outputs": [],
   "source": [
    "def solve_riccati(P, t):\n",
    "    \"\"\"Solve ODE Riccati equation\"\"\"\n",
    "    P = np.reshape(P, (n_state, n_state))\n",
    "    dPdt = -P.dot(A) - A.T.dot(P) - Q + (1/R)*P.dot(B).dot(B.T).dot(P)\n",
    "    return dPdt.ravel()"
   ]
  },
  {
   "cell_type": "code",
   "execution_count": 57,
   "metadata": {
    "collapsed": true
   },
   "outputs": [],
   "source": [
    "Pt = odeint(solve_riccati, PT.ravel(), tr) # solve Riccati equation over time"
   ]
  },
  {
   "cell_type": "code",
   "execution_count": 58,
   "metadata": {
    "collapsed": false
   },
   "outputs": [
    {
     "name": "stdout",
     "output_type": "stream",
     "text": [
      "Steady state P coverges to \n",
      " [[ 9.08023013  0.48805965]\n",
      " [ 0.48805965  0.85645008]]\n",
      "And steady state gain K =  [[-0.48808848 -0.85649277]]\n"
     ]
    }
   ],
   "source": [
    "print('Steady state P coverges to \\n', np.reshape(Pt[-1], (n_state, n_state)))\n",
    "K = -(1/R).dot(B.T).dot(P)\n",
    "print('And steady state gain K = ', K)"
   ]
  },
  {
   "cell_type": "markdown",
   "metadata": {},
   "source": [
    "we can see that we get the same value solving direct differential equation or solve using `solve_continuous_are` (or `care` in Matlab)."
   ]
  },
  {
   "cell_type": "markdown",
   "metadata": {},
   "source": [
    "c. Using brute force to solve gain $K$ from $t = 0$ to $t = T = 10$"
   ]
  },
  {
   "cell_type": "code",
   "execution_count": 59,
   "metadata": {
    "collapsed": false
   },
   "outputs": [],
   "source": [
    "# gain from t = 0:0.1:10\n",
    "K = np.vstack([-(1/R).dot(B.T).dot(np.reshape(p, (n_state, n_state))) for p in Pt])\n",
    "K = np.flipud(K) # flip up-down since we got solution backward in time"
   ]
  },
  {
   "cell_type": "code",
   "execution_count": 60,
   "metadata": {
    "collapsed": false
   },
   "outputs": [
    {
     "data": {
      "image/png": "[encoded data removed]",
      "text/plain": [
       "<matplotlib.figure.Figure at 0x1083ae9e8>"
      ]
     },
     "metadata": {},
     "output_type": "display_data"
    }
   ],
   "source": [
    "plt.plot(K[:, 0], c='r')\n",
    "plt.plot(K[:, 1], c='b')\n",
    "plt.ylabel('Gain (K)')\n",
    "plt.xlabel('time step (dt = 0.1 for each step)')\n",
    "plt.show()"
   ]
  },
  {
   "cell_type": "markdown",
   "metadata": {},
   "source": [
    "Simulate the system using gain that we got from Riccati equation\n",
    "\n",
    "where we can solve for control $u^\\ast(t) = K(t) x^\\ast (t) = -R^{-1}(t) B^T(t) P(t) x^\\ast (t)$ \n",
    "\n",
    "where $K(t) = - R^{-1}(t) B^T(t) P(t)$\n",
    "\n",
    "trajectory $x(t)$ can be solved by plug $u(t) = - K(t) x(t)$ into differential equation, i.e. \n",
    "\n",
    "$$\\dot{\\mathbf{x}} = A(t)\\mathbf{x}(t) -  B R^{-1} (B^T) P(t) \\mathbf{x}(t)$$\n",
    "\n",
    "$$\\dot{\\mathbf{x}} = A(t)\\mathbf{x}(t) +  B K(t) \\mathbf{x}(t)$$\n"
   ]
  },
  {
   "cell_type": "code",
   "execution_count": 61,
   "metadata": {
    "collapsed": true
   },
   "outputs": [],
   "source": [
    "def solve_state_eq(x, t):\n",
    "    \"\"\"Solve state equation\n",
    "    dx/dt = Ax + Bu\n",
    "    \"\"\"\n",
    "    x = x[:, np.newaxis]\n",
    "    # given A and K[t]\n",
    "    Kt = np.atleast_2d(K[t])\n",
    "    dxdt = A.dot(x) + B.dot(Kt.dot(x))\n",
    "    return dxdt.ravel()"
   ]
  },
  {
   "cell_type": "code",
   "execution_count": 62,
   "metadata": {
    "collapsed": false
   },
   "outputs": [
    {
     "name": "stderr",
     "output_type": "stream",
     "text": [
      "/Users/titipat/anaconda3/lib/python3.5/site-packages/ipykernel/__main__.py:7: VisibleDeprecationWarning: using a non-integer number instead of an integer will result in an error in the future\n"
     ]
    }
   ],
   "source": [
    "n = T/0.1 + 1\n",
    "t = np.linspace(0, T, n) # time from 0 to final T = 10\n",
    "x0 = np.array([1.0, 0.0]) # initial condition\n",
    "xt = odeint(solve_state_eq, x0.ravel(), t) # solve Riccati equation over time"
   ]
  },
  {
   "cell_type": "code",
   "execution_count": 63,
   "metadata": {
    "collapsed": false
   },
   "outputs": [
    {
     "data": {
      "image/png": "[encoded data removed]",
      "text/plain": [
       "<matplotlib.figure.Figure at 0x10b5dee48>"
      ]
     },
     "metadata": {},
     "output_type": "display_data"
    }
   ],
   "source": [
    "plt.plot(t, xt)\n",
    "plt.xlabel('time (t)')\n",
    "plt.ylabel('state (position and velocity)')\n",
    "plt.legend(['position $x$', 'velocity $\\dot{x}$'])\n",
    "plt.show()"
   ]
  },
  {
   "cell_type": "markdown",
   "metadata": {},
   "source": [
    "control signal $u(t)$ from time $t = 0$ to $T = 10$, here each time step, $dt = 0.1$"
   ]
  },
  {
   "cell_type": "code",
   "execution_count": 64,
   "metadata": {
    "collapsed": false
   },
   "outputs": [
    {
     "data": {
      "image/png": "[encoded data removed]",
      "text/plain": [
       "<matplotlib.figure.Figure at 0x112e04c18>"
      ]
     },
     "metadata": {},
     "output_type": "display_data"
    }
   ],
   "source": [
    "u = [np.dot(K[i], xt[i]) for i in range(len(K))] # control\n",
    "plt.plot(t, u)\n",
    "plt.xlabel('time (t)')\n",
    "plt.ylabel('control signal u(t)')\n",
    "plt.show()"
   ]
  }
 ],
 "metadata": {
  "kernelspec": {
   "display_name": "Python 3",
   "language": "python",
   "name": "python3"
  },
  "language_info": {
   "codemirror_mode": {
    "name": "ipython",
    "version": 3
   },
   "file_extension": ".py",
   "mimetype": "text/x-python",
   "name": "python",
   "nbconvert_exporter": "python",
   "pygments_lexer": "ipython3",
   "version": "3.5.1"
  }
 },
 "nbformat": 4,
 "nbformat_minor": 0
}
