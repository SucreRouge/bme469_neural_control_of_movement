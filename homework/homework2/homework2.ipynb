{
 "cells": [
  {
   "cell_type": "markdown",
   "metadata": {},
   "source": [
    "# **Homework 2**\n",
    "\n",
    "Titipat Achakulvisut\n",
    "\n",
    "## **Problem 1: Classifier – back propagation**\n",
    "\n",
    "Use the code below to create three data clusters which are vertically stacked and therefore not linearly separable, as we discussed in class.  Your job is to create code implementing back propagation for a two layer neural network which can perform this classification.  Use a network with 4 hidden units, as indicated in the shell code. Don’t worry about cross validation and all that – feel free to just use all the data."
   ]
  },
  {
   "cell_type": "code",
   "execution_count": 1,
   "metadata": {
    "collapsed": true
   },
   "outputs": [],
   "source": [
    "%matplotlib inline\n",
    "import numpy as np\n",
    "import matplotlib.pyplot as plt\n",
    "import seaborn as sns"
   ]
  },
  {
   "cell_type": "code",
   "execution_count": 2,
   "metadata": {
    "collapsed": true
   },
   "outputs": [],
   "source": [
    "sd = .85\n",
    "X1 = np.vstack((np.random.normal(0, sd, size=(50,1)), \n",
    "                np.random.normal(0, sd, size=(50,1)), \n",
    "                np.random.normal(0, sd, size=(50,1))))\n",
    "X2 = np.vstack((np.random.normal(0, sd, size=(50,1)), \n",
    "                np.random.normal(5, sd, size=(50,1)), \n",
    "                np.random.normal(10, sd, size=(50,1))))\n",
    "# X3 = np.ones((150, 1))\n",
    "X = np.concatenate((X1, X2), axis=1)\n",
    "y = np.zeros((150, 3))\n",
    "y[0:50, 0] = 1\n",
    "y[50:100, 1] = 1\n",
    "y[100:150, 2] = 1"
   ]
  },
  {
   "cell_type": "code",
   "execution_count": 3,
   "metadata": {
    "collapsed": false
   },
   "outputs": [
    {
     "data": {
      "image/png": "[encoded data removed]",
      "text/plain": [
       "<matplotlib.figure.Figure at 0x1102b2048>"
      ]
     },
     "metadata": {},
     "output_type": "display_data"
    }
   ],
   "source": [
    "plt.scatter(X[:,0], X[:,1], c=y);"
   ]
  },
  {
   "cell_type": "code",
   "execution_count": 4,
   "metadata": {
    "collapsed": true
   },
   "outputs": [],
   "source": [
    "def sigmoid(z):\n",
    "    return 1/(1 + np.exp(-z))\n",
    "\n",
    "def sigmoid_grad(z):\n",
    "    return sigmoid(z)*(1 - sigmoid(z))"
   ]
  },
  {
   "cell_type": "code",
   "execution_count": 5,
   "metadata": {
    "collapsed": true
   },
   "outputs": [],
   "source": [
    "ninput = 2\n",
    "nhidden = 4\n",
    "noutput = 3\n",
    "W = np.random.uniform(-1, 1, size=(ninput+1, nhidden)) - 0.5\n",
    "V = np.random.uniform(-1, 1, size=(nhidden+1, noutput)) - 0.5"
   ]
  },
  {
   "cell_type": "code",
   "execution_count": 6,
   "metadata": {
    "collapsed": true
   },
   "outputs": [],
   "source": [
    "def predict(W, V, X):\n",
    "    \"\"\"Do forward propagation given first and second layers\"\"\"\n",
    "    n, m = X.shape\n",
    "    a1 = np.concatenate((np.ones((n,1)), X), axis=1)\n",
    "    z2 = a1.dot(W)\n",
    "    a2 = sigmoid(z2)\n",
    "    a2 = np.concatenate((np.ones((n,1)), a2), axis=1)\n",
    "    z3 = a2.dot(V)\n",
    "    a3 = sigmoid(z3)\n",
    "    h = a3\n",
    "    return h"
   ]
  },
  {
   "cell_type": "code",
   "execution_count": 7,
   "metadata": {
    "collapsed": true
   },
   "outputs": [],
   "source": [
    "def compute_grad_bp(W, V, X, Y):\n",
    "    \"\"\"\n",
    "    Compute gradient of NN parameters for one iteration\n",
    "    using back propagation\n",
    "    \"\"\"\n",
    "    # initialize few parameters\n",
    "    n, m = X.shape\n",
    "    \n",
    "    dW = np.zeros_like(W)\n",
    "    dV = np.zeros_like(V)\n",
    "    \n",
    "    a1 = np.concatenate((np.ones((n,1)), X), axis=1)\n",
    "    z2 = a1.dot(W)\n",
    "    a2 = sigmoid(z2)\n",
    "    a2 = np.concatenate((np.ones((n,1)), a2), axis=1)\n",
    "    z3 = a2.dot(V)\n",
    "    a3 = sigmoid(z3)\n",
    "    h = a3\n",
    "    \n",
    "    # back propagation\n",
    "    delta3 = h - Y\n",
    "    delta2 = delta3.dot(V[1::,:].T)*sigmoid_grad(z2)\n",
    "    \n",
    "    dW = (1/m)*((delta2.T).dot(a1)).T\n",
    "    dV = (1/m)*((delta3.T).dot(a2)).T\n",
    "    \n",
    "    return dW, dV"
   ]
  },
  {
   "cell_type": "code",
   "execution_count": 8,
   "metadata": {
    "collapsed": true
   },
   "outputs": [],
   "source": [
    "# gradient descent to find final neural nets parameter\n",
    "n_iter = 4000\n",
    "mu = 0.01\n",
    "dW = np.zeros_like(W)\n",
    "dV = np.zeros_like(V)\n",
    "for i in range(n_iter):\n",
    "    dW, dV = compute_grad_bp(W, V, X, y)\n",
    "    W = W - mu*dW\n",
    "    V = V - mu*dV"
   ]
  },
  {
   "cell_type": "code",
   "execution_count": 9,
   "metadata": {
    "collapsed": false
   },
   "outputs": [
    {
     "name": "stdout",
     "output_type": "stream",
     "text": [
      "Predicted output class: \n",
      " [0 0 0 0 0 0 0 0 0 0 0 0 0 0 0 0 0 0 0 0 0 0 0 0 0 0 0 0 0 0 0 0 0 0 0 0 0\n",
      " 0 0 0 0 0 0 0 0 0 0 0 0 0 1 1 1 1 1 1 1 1 1 1 1 1 1 1 1 1 1 1 1 1 1 1 1 1\n",
      " 1 1 1 1 1 1 1 1 1 1 1 1 1 1 1 1 1 1 1 1 1 1 1 1 1 1 2 2 2 2 2 2 2 2 2 2 2\n",
      " 2 2 2 2 2 2 2 2 2 2 2 2 2 2 2 2 2 2 2 2 2 2 2 2 2 2 2 2 2 2 2 2 2 2 2 2 2\n",
      " 2 2]\n",
      "\n"
     ]
    }
   ],
   "source": [
    "y_hat = predict(W, V, X)\n",
    "print('Predicted output class: \\n', y_hat.argmax(axis=1))\n",
    "print( )"
   ]
  },
  {
   "cell_type": "code",
   "execution_count": 10,
   "metadata": {
    "collapsed": false
   },
   "outputs": [
    {
     "data": {
      "image/png": "[encoded data removed]",
      "text/plain": [
       "<matplotlib.figure.Figure at 0x1102c8c88>"
      ]
     },
     "metadata": {},
     "output_type": "display_data"
    }
   ],
   "source": [
    "plt.plot(y_hat.argmax(axis=1), '.r', alpha=0.3)\n",
    "plt.plot(y.argmax(axis=1), '.b', alpha=0.3) # output class for each datapoint\n",
    "plt.xlabel('number of data point (i)')\n",
    "plt.ylabel('output class (y)')\n",
    "plt.legend(['predicted class', 'true class'])\n",
    "plt.show()"
   ]
  },
  {
   "cell_type": "markdown",
   "metadata": {},
   "source": [
    "## **Problem 2: Unsupervised learning – k-means clustering**\n",
    "\n",
    "In each of the next problems you are given data that appears to be produced by two clusters (use the code in ps1 `datasets.m`, 2a).  Your job in this problem is to use k-means clustering to classify the data according to two clusters. Plot the trajectory of the means as they are updated over iterations, with this trajectory superimposed over the data sets."
   ]
  },
  {
   "cell_type": "code",
   "execution_count": 11,
   "metadata": {
    "collapsed": false
   },
   "outputs": [],
   "source": [
    "X1 = np.hstack((np.random.normal(6, 1, size=(100,1)), np.random.normal(2, 1, size=(100, 1))))\n",
    "X2 = np.hstack((np.random.normal(2, 1, size=(100,1)), np.random.normal(8, 1, size=(100, 1))))\n",
    "X = np.vstack((X1, X2))"
   ]
  },
  {
   "cell_type": "code",
   "execution_count": 12,
   "metadata": {
    "collapsed": true
   },
   "outputs": [],
   "source": [
    "def update(X, centers, alpha=0.05):\n",
    "    \"\"\"Update K-mean center and compute cost in that iteration\"\"\"\n",
    "    K = len(centers) # number of cluster\n",
    "    D = np.vstack([np.linalg.norm(X - center, axis=1) for center in centers]) # compute distance\n",
    "    clusters = np.argmin(D.T, axis=1) # assign clusters\n",
    "    \n",
    "    centers = np.vstack([X[clusters==k].mean(axis=0) for k in range(K)])\n",
    "    \n",
    "    # compute cost\n",
    "    J = np.sum([np.sum(np.linalg.norm(X[clusters==k] - centers[k], axis=1)) for k in range(K)])\n",
    "    return centers, J, clusters"
   ]
  },
  {
   "cell_type": "code",
   "execution_count": 13,
   "metadata": {
    "collapsed": true
   },
   "outputs": [],
   "source": [
    "def random_centers(X, K=2):\n",
    "    \"\"\"\n",
    "    Randomly generate K centers from data X\n",
    "    \"\"\"\n",
    "    X_min = X.min(axis=0)\n",
    "    X_max = X.max(axis=0)\n",
    "    centers = []\n",
    "    for k in range(K):\n",
    "        center = [np.random.uniform(X_min[i], X_max[i]) for i in range(len(X_min))]\n",
    "        centers.append(center)\n",
    "    return np.array(centers)"
   ]
  },
  {
   "cell_type": "code",
   "execution_count": 14,
   "metadata": {
    "collapsed": false
   },
   "outputs": [],
   "source": [
    "n_iter = 100\n",
    "n_cluster = 2\n",
    "centers = random_centers(X, K=n_cluster) # random center\n",
    "clusters = np.zeros(X.shape[0])\n",
    "u = True\n",
    "J_list = []\n",
    "centers_list = []\n",
    "while u:\n",
    "    clusters_prev = clusters\n",
    "    centers, J, clusters = update(X, centers) # compute new center and cost\n",
    "    J_list.append(J)\n",
    "    centers_list.append(centers)\n",
    "    if np.all(clusters_prev == clusters):\n",
    "        u = False"
   ]
  },
  {
   "cell_type": "code",
   "execution_count": 15,
   "metadata": {
    "collapsed": false
   },
   "outputs": [
    {
     "data": {
      "image/png": "[encoded data removed]",
      "text/plain": [
       "<matplotlib.figure.Figure at 0x1102ee9b0>"
      ]
     },
     "metadata": {},
     "output_type": "display_data"
    },
    {
     "name": "stdout",
     "output_type": "stream",
     "text": [
      "Center for final cluster are  [6.1613762700714982, 2.0620342547036632]  and  [1.9846341574039352, 7.9413946106762605]\n"
     ]
    }
   ],
   "source": [
    "plt.scatter(X[:, 0], X[:, 1], color='r', alpha=0.3)\n",
    "for c in centers_list:\n",
    "    for k in range(n_cluster):\n",
    "        plt.scatter(c[k][0], c[k][1], color='c', lw = 0)\n",
    "plt.xlabel('X')\n",
    "plt.ylabel('Y')\n",
    "plt.title('K-mean center')\n",
    "plt.show()\n",
    "print('Center for final cluster are ', list(centers_list[-1][0]), ' and ',  list(centers_list[-1][1]))"
   ]
  },
  {
   "cell_type": "markdown",
   "metadata": {},
   "source": [
    "## **Problem 3: Unsupervised learning – ML gradient descent**\n",
    "\n",
    "Your job is to classify the same dataset as used in problem 2 into two clusters using ML gradient descent to update the values of mean and standard deviation of two Gaussian clusters.  Assume that the prior probabilities of each cluster are already given and fixed at 0.5 each.  "
   ]
  },
  {
   "cell_type": "markdown",
   "metadata": {
    "collapsed": true
   },
   "source": [
    "Negative log likelihood is as following $l(\\mathbf{\\mu}_k, \\sigma_k^2) = - \\sum_{i=1}^{N} \\log(\\sum_{k=1}^K \\pi_k N(\\mathbf{x}_i | \\mathbf{\\mu}_k , \\sigma_k^2 I))$"
   ]
  },
  {
   "cell_type": "code",
   "execution_count": 16,
   "metadata": {
    "collapsed": false
   },
   "outputs": [
    {
     "name": "stdout",
     "output_type": "stream",
     "text": [
      "[ 10.22509085   2.02324197] [ 2.03335633  7.87270532]\n"
     ]
    },
    {
     "data": {
      "image/png": "[encoded data removed]",
      "text/plain": [
       "<matplotlib.figure.Figure at 0x1106d11d0>"
      ]
     },
     "metadata": {},
     "output_type": "display_data"
    }
   ],
   "source": [
    "X1 = np.hstack((np.random.normal(10, 3, size=(100,1)), np.random.normal(2, 3, size=(100, 1))))\n",
    "X2 = np.hstack((np.random.normal(2, 1, size=(100,1)), np.random.normal(8, 1, size=(100, 1))))\n",
    "X = np.vstack((X1, X2))\n",
    "print(np.mean(X1, axis=0), np.mean(X2, axis=0))\n",
    "plt.scatter(X[:, 0], X[:, 1], color='r', alpha=0.3)\n",
    "plt.show()"
   ]
  },
  {
   "cell_type": "code",
   "execution_count": 17,
   "metadata": {
    "collapsed": true
   },
   "outputs": [],
   "source": [
    "import numpy.linalg as la\n",
    "def inv(A):\n",
    "    return la.inv(A)"
   ]
  },
  {
   "cell_type": "code",
   "execution_count": 18,
   "metadata": {
    "collapsed": false
   },
   "outputs": [
    {
     "name": "stdout",
     "output_type": "stream",
     "text": [
      "[[ 7.42731639 -1.34320236]\n",
      " [ 3.23160984  0.29124671]]\n",
      "center:  [[ 10.28780621   2.0369936 ]\n",
      " [  1.97830081   7.49902711]]\n",
      "sigma:  [[[ 3.5433153   0.5139103 ]\n",
      "  [ 0.5139103   3.97407983]]\n",
      "\n",
      " [[ 1.28096323  0.0549102 ]\n",
      "  [ 0.0549102   0.81869803]]]\n"
     ]
    }
   ],
   "source": [
    "# not sure version ...\n",
    "mu = 0.05\n",
    "mu_sigma = 0.001\n",
    "n_iter = 50\n",
    "centers = random_centers(X, K=2)\n",
    "print(centers)\n",
    "sigma = np.array([np.random.rand(1)*np.eye(2), np.random.rand(1)*np.eye(2)])\n",
    "p = np.array([0.5, 0.5])\n",
    "for n in range(n_iter):\n",
    "    sigma_grad = np.zeros_like(sigma)\n",
    "    # calculate cluster\n",
    "    D = np.vstack([np.linalg.norm(X - center, axis=1) for center in centers]) # distance\n",
    "    clusters = np.argmin(D.T, axis=1)\n",
    "    # update new centers\n",
    "    for i in range(len(X)):\n",
    "        for j in range(len(centers)):\n",
    "            centers[clusters[i]] = centers[clusters[i]] + mu*(inv(sigma[clusters[i]]).dot(X[i] - centers[clusters[i]]))\n",
    "            D = np.vstack([np.linalg.norm(X - center, axis=1) for center in centers])\n",
    "            clusters = np.argmin(D.T, axis=1)\n",
    "            t = np.atleast_2d(X[i] - centers[clusters[i]]).T\n",
    "            cov = t.dot(t.T)\n",
    "            sigma_grad[clusters[i]] = 0.5*(-inv(sigma[clusters[i]]) + inv(sigma[clusters[i]]).dot(cov).dot(inv(sigma[clusters[i]])))\n",
    "            sigma[clusters[i]] = sigma[clusters[i]] + mu_sigma*sigma_grad[clusters[i]]\n",
    "print('center: ', centers)\n",
    "print('sigma: ', sigma)"
   ]
  },
  {
   "cell_type": "markdown",
   "metadata": {},
   "source": [
    "consider special case when $\\Sigma = \\sigma_i I$"
   ]
  },
  {
   "cell_type": "code",
   "execution_count": 19,
   "metadata": {
    "collapsed": false
   },
   "outputs": [
    {
     "name": "stdout",
     "output_type": "stream",
     "text": [
      "Initialized center = \n",
      " [[  2.25353607  -1.49213133]\n",
      " [ 12.80157862   6.18503964]]\n",
      "Initializerd standard deviation = \n",
      " [ 0.3743393   0.69633604]\n",
      "Final center = \n",
      " [[  2.12964733   7.84956295]\n",
      " [ 10.34997655   1.8867271 ]]\n",
      "Final standard deviation = \n",
      " [ 1.47247883  3.72380159]\n"
     ]
    }
   ],
   "source": [
    "mu = 0.01\n",
    "mu_sigma = 0.01\n",
    "n_iter = 100\n",
    "centers = random_centers(X, K=2)\n",
    "print('Initialized center = \\n', centers)\n",
    "sigma = np.random.rand(2)\n",
    "print('Initializerd standard deviation = \\n', sigma)\n",
    "\n",
    "for n in range(n_iter):\n",
    "    D = np.vstack([np.linalg.norm(X - center, axis=1) for center in centers])\n",
    "    clusters = np.argmin(D.T, axis=1)\n",
    "    for i in range(len(X)):\n",
    "        # move center\n",
    "        centers[clusters[i]] = centers[clusters[i]] + mu*((X[i] - centers[clusters[i]])/(sigma[clusters[i]])**2)\n",
    "        D = np.vstack([np.linalg.norm(X - center, axis=1) for center in centers])\n",
    "        clusters = np.argmin(D.T, axis=1)\n",
    "        cov = (X[i] - centers[clusters[i]]).dot((X[i] - centers[clusters[i]]))\n",
    "        sigma[clusters[i]] = sigma[clusters[i]] + mu_sigma*(-1/sigma[clusters[i]] + cov*(1/sigma[clusters[i]]**3))\n",
    "print('Final center = \\n', centers)\n",
    "print('Final standard deviation = \\n', sigma)"
   ]
  },
  {
   "cell_type": "code",
   "execution_count": null,
   "metadata": {
    "collapsed": true
   },
   "outputs": [],
   "source": []
  }
 ],
 "metadata": {
  "kernelspec": {
   "display_name": "Python 3",
   "language": "python",
   "name": "python3"
  },
  "language_info": {
   "codemirror_mode": {
    "name": "ipython",
    "version": 3
   },
   "file_extension": ".py",
   "mimetype": "text/x-python",
   "name": "python",
   "nbconvert_exporter": "python",
   "pygments_lexer": "ipython3",
   "version": "3.5.1"
  }
 },
 "nbformat": 4,
 "nbformat_minor": 0
}
