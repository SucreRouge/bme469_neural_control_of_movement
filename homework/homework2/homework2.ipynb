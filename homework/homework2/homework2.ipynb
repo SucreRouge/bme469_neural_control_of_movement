{
 "cells": [
  {
   "cell_type": "markdown",
   "metadata": {},
   "source": [
    "# **Homework 2**\n",
    "\n",
    "Titipat Achakulvisut\n",
    "\n",
    "## **Problem 1: Classifier – back propagation**\n",
    "\n",
    "Use the code below to create three data clusters which are vertically stacked and therefore not linearly separable, as we discussed in class.  Your job is to create code implementing back propagation for a two layer neural network which can perform this classification.  Use a network with 4 hidden units, as indicated in the shell code. Don’t worry about cross validation and all that – feel free to just use all the data."
   ]
  },
  {
   "cell_type": "code",
   "execution_count": 1,
   "metadata": {
    "collapsed": true
   },
   "outputs": [],
   "source": [
    "%matplotlib inline\n",
    "import numpy as np\n",
    "import matplotlib.pyplot as plt\n",
    "import seaborn as sns"
   ]
  },
  {
   "cell_type": "code",
   "execution_count": 2,
   "metadata": {
    "collapsed": true
   },
   "outputs": [],
   "source": [
    "sd = .85\n",
    "X1 = np.vstack((np.random.normal(0, sd, size=(50,1)), \n",
    "                np.random.normal(0, sd, size=(50,1)), \n",
    "                np.random.normal(0, sd, size=(50,1))))\n",
    "X2 = np.vstack((np.random.normal(0, sd, size=(50,1)), \n",
    "                np.random.normal(5, sd, size=(50,1)), \n",
    "                np.random.normal(10, sd, size=(50,1))))\n",
    "# X3 = np.ones((150, 1))\n",
    "X = np.concatenate((X1, X2), axis=1)\n",
    "y = np.zeros((150, 3))\n",
    "y[0:50, 0] = 1\n",
    "y[50:100, 1] = 1\n",
    "y[100:150, 2] = 1"
   ]
  },
  {
   "cell_type": "code",
   "execution_count": 3,
   "metadata": {
    "collapsed": false
   },
   "outputs": [
    {
     "data": {
      "image/png": "[encoded data removed]",
      "text/plain": [
       "<matplotlib.figure.Figure at 0x10686e2e8>"
      ]
     },
     "metadata": {},
     "output_type": "display_data"
    }
   ],
   "source": [
    "plt.scatter(X[:,0], X[:,1], c=y);"
   ]
  },
  {
   "cell_type": "code",
   "execution_count": 4,
   "metadata": {
    "collapsed": true
   },
   "outputs": [],
   "source": [
    "def sigmoid(z):\n",
    "    return 1/(1 + np.exp(-z))\n",
    "\n",
    "def sigmoid_grad(z):\n",
    "    return sigmoid(z)*(1 - sigmoid(z))"
   ]
  },
  {
   "cell_type": "code",
   "execution_count": 5,
   "metadata": {
    "collapsed": true
   },
   "outputs": [],
   "source": [
    "ninput = 2\n",
    "nhidden = 4\n",
    "noutput = 3\n",
    "W = np.random.uniform(-1, 1, size=(ninput+1, nhidden)) - 0.5\n",
    "V = np.random.uniform(-1, 1, size=(nhidden+1, noutput)) - 0.5"
   ]
  },
  {
   "cell_type": "code",
   "execution_count": 6,
   "metadata": {
    "collapsed": true
   },
   "outputs": [],
   "source": [
    "def predict(W, V, X):\n",
    "    \"\"\"Do forward propagation given first and second layers\"\"\"\n",
    "    n, m = X.shape\n",
    "    a1 = np.concatenate((np.ones((n,1)), X), axis=1)\n",
    "    z2 = a1.dot(W)\n",
    "    a2 = sigmoid(z2)\n",
    "    a2 = np.concatenate((np.ones((n,1)), a2), axis=1)\n",
    "    z3 = a2.dot(V)\n",
    "    a3 = sigmoid(z3)\n",
    "    h = a3\n",
    "    return h"
   ]
  },
  {
   "cell_type": "code",
   "execution_count": 7,
   "metadata": {
    "collapsed": true
   },
   "outputs": [],
   "source": [
    "def compute_grad_bp(W, V, X, Y):\n",
    "    \"\"\"\n",
    "    Compute gradient of NN parameters for one iteration\n",
    "    using back propagation\n",
    "    \"\"\"\n",
    "    # initialize few parameters\n",
    "    n, m = X.shape\n",
    "    \n",
    "    dW = np.zeros_like(W)\n",
    "    dV = np.zeros_like(V)\n",
    "    \n",
    "    a1 = np.concatenate((np.ones((n,1)), X), axis=1)\n",
    "    z2 = a1.dot(W)\n",
    "    a2 = sigmoid(z2)\n",
    "    a2 = np.concatenate((np.ones((n,1)), a2), axis=1)\n",
    "    z3 = a2.dot(V)\n",
    "    a3 = sigmoid(z3)\n",
    "    h = a3\n",
    "    \n",
    "    # back propagation\n",
    "    delta3 = h - Y\n",
    "    delta2 = delta3.dot(V[1::,:].T)*sigmoid_grad(z2)\n",
    "    \n",
    "    dW = (1/m)*((delta2.T).dot(a1)).T\n",
    "    dV = (1/m)*((delta3.T).dot(a2)).T\n",
    "    \n",
    "    return dW, dV"
   ]
  },
  {
   "cell_type": "code",
   "execution_count": 8,
   "metadata": {
    "collapsed": true
   },
   "outputs": [],
   "source": [
    "# gradient descent to find final neural nets parameter\n",
    "n_iter = 4000\n",
    "mu = 0.01\n",
    "dW = np.zeros_like(W)\n",
    "dV = np.zeros_like(V)\n",
    "for i in range(n_iter):\n",
    "    dW, dV = compute_grad_bp(W, V, X, y)\n",
    "    W = W - mu*dW\n",
    "    V = V - mu*dV"
   ]
  },
  {
   "cell_type": "code",
   "execution_count": 9,
   "metadata": {
    "collapsed": false
   },
   "outputs": [
    {
     "name": "stdout",
     "output_type": "stream",
     "text": [
      "Predicted output class: \n",
      " [0 0 0 0 0 0 0 0 0 0 0 0 0 0 0 0 0 0 0 0 0 0 0 0 0 0 0 0 0 0 0 0 0 0 0 0 0\n",
      " 0 0 0 0 0 0 0 0 0 0 0 0 0 1 1 1 1 1 1 1 1 1 1 1 1 1 1 1 1 1 1 1 1 1 1 1 1\n",
      " 1 1 1 1 1 1 1 1 1 1 1 1 1 1 1 1 1 1 1 1 1 1 1 1 1 1 2 2 2 2 2 2 2 2 2 2 2\n",
      " 2 2 2 2 2 2 2 2 2 2 2 2 2 2 2 2 2 2 2 2 2 2 2 2 2 2 2 2 2 2 2 2 2 2 2 2 2\n",
      " 2 2]\n",
      "\n"
     ]
    }
   ],
   "source": [
    "y_hat = predict(W, V, X)\n",
    "print('Predicted output class: \\n', y_hat.argmax(axis=1))\n",
    "print( )"
   ]
  },
  {
   "cell_type": "code",
   "execution_count": 10,
   "metadata": {
    "collapsed": false
   },
   "outputs": [
    {
     "data": {
      "image/png": "[encoded data removed]",
      "text/plain": [
       "<matplotlib.figure.Figure at 0x1102d91d0>"
      ]
     },
     "metadata": {},
     "output_type": "display_data"
    }
   ],
   "source": [
    "plt.plot(y_hat.argmax(axis=1), '.r', alpha=0.3)\n",
    "plt.plot(y.argmax(axis=1), '.b', alpha=0.3) # output class for each datapoint\n",
    "plt.xlabel('number of data point (i)')\n",
    "plt.ylabel('output class (y)')\n",
    "plt.legend(['predicted class', 'true class'])\n",
    "plt.show()"
   ]
  },
  {
   "cell_type": "markdown",
   "metadata": {},
   "source": [
    "## **Problem 2: Unsupervised learning – k-means clustering**\n",
    "\n",
    "In each of the next problems you are given data that appears to be produced by two clusters (use the code in ps1 `datasets.m`, 2a).  Your job in this problem is to use k-means clustering to classify the data according to two clusters. Plot the trajectory of the means as they are updated over iterations, with this trajectory superimposed over the data sets."
   ]
  },
  {
   "cell_type": "code",
   "execution_count": 11,
   "metadata": {
    "collapsed": false
   },
   "outputs": [],
   "source": [
    "X1 = np.hstack((np.random.normal(6, 1, size=(100,1)), \n",
    "                np.random.normal(2, 1, size=(100, 1))))\n",
    "X2 = np.hstack((np.random.normal(2, 1, size=(100,1)), \n",
    "                np.random.normal(8, 1, size=(100, 1))))\n",
    "X = np.vstack((X1, X2))"
   ]
  },
  {
   "cell_type": "code",
   "execution_count": 12,
   "metadata": {
    "collapsed": true
   },
   "outputs": [],
   "source": [
    "def update(X, centers, alpha=0.05):\n",
    "    \"\"\"Update K-mean center and compute cost in that iteration\"\"\"\n",
    "    # number of cluster\n",
    "    K = len(centers)\n",
    "    # compute distance\n",
    "    D = np.vstack([np.linalg.norm(X - center, axis=1) for center in centers]) \n",
    "    clusters = np.argmin(D.T, axis=1) # assign clusters\n",
    "    centers = np.vstack([X[clusters==k].mean(axis=0) for k in range(K)])\n",
    "\n",
    "    # compute cost of K-mean\n",
    "    J = np.sum([np.sum(np.linalg.norm(X[clusters==k] - centers[k], axis=1)) \n",
    "                for k in range(K)])\n",
    "    return centers, J, clusters"
   ]
  },
  {
   "cell_type": "code",
   "execution_count": 13,
   "metadata": {
    "collapsed": true
   },
   "outputs": [],
   "source": [
    "def random_centers(X, K=2):\n",
    "    \"\"\"\n",
    "    Randomly generate K centers from data X\n",
    "    \"\"\"\n",
    "    X_min = X.min(axis=0)\n",
    "    X_max = X.max(axis=0)\n",
    "    centers = []\n",
    "    for k in range(K):\n",
    "        center = [np.random.uniform(X_min[i], X_max[i]) for i in range(len(X_min))]\n",
    "        centers.append(center)\n",
    "    return np.array(centers)"
   ]
  },
  {
   "cell_type": "code",
   "execution_count": 14,
   "metadata": {
    "collapsed": false
   },
   "outputs": [
    {
     "name": "stdout",
     "output_type": "stream",
     "text": [
      "Initial centers are \n",
      " [[ 7.74208779  9.9815069 ]\n",
      " [ 3.76859651  0.52024945]]\n"
     ]
    }
   ],
   "source": [
    "n_iter = 100\n",
    "n_cluster = 2\n",
    "centers = random_centers(X, K=n_cluster) # random center\n",
    "print('Initial centers are \\n', centers)\n",
    "clusters = np.zeros(X.shape[0])\n",
    "u = True\n",
    "J_list = []\n",
    "centers_list = []\n",
    "while u:\n",
    "    clusters_prev = clusters\n",
    "    centers_list.append(centers)\n",
    "    centers, J, clusters = update(X, centers) # compute new center and cost\n",
    "    J_list.append(J)\n",
    "    if np.all(clusters_prev == clusters):\n",
    "        u = False"
   ]
  },
  {
   "cell_type": "code",
   "execution_count": 15,
   "metadata": {
    "collapsed": false
   },
   "outputs": [
    {
     "data": {
      "image/png": "[encoded data removed]",
      "text/plain": [
       "<matplotlib.figure.Figure at 0x1102ddb70>"
      ]
     },
     "metadata": {},
     "output_type": "display_data"
    },
    {
     "name": "stdout",
     "output_type": "stream",
     "text": [
      "Center for final cluster are \n",
      " [2.098415883325448, 8.0076241787313087]  and \n",
      " [6.2067800731765992, 1.9574372122027575]\n"
     ]
    }
   ],
   "source": [
    "plt.scatter(X[:, 0], X[:, 1], color='r', alpha=0.3)\n",
    "for c in centers_list:\n",
    "    for k in range(n_cluster):\n",
    "        plt.scatter(c[k][0], c[k][1], color='c', lw = 0)\n",
    "plt.xlabel('X')\n",
    "plt.ylabel('Y')\n",
    "plt.title('K-mean algorithm with center of the clusters')\n",
    "plt.show()\n",
    "print('Center for final cluster are \\n', \n",
    "      list(centers_list[-1][0]), ' and \\n', \n",
    "      list(centers_list[-1][1]))"
   ]
  },
  {
   "cell_type": "markdown",
   "metadata": {},
   "source": [
    "## **Problem 3: Unsupervised learning – ML gradient descent**\n",
    "\n",
    "Your job is to classify the same dataset as used in problem 2 into two clusters using ML gradient descent to update the values of mean and standard deviation of two Gaussian clusters.  Assume that the prior probabilities of each cluster are already given and fixed at 0.5 each.  "
   ]
  },
  {
   "cell_type": "markdown",
   "metadata": {
    "collapsed": true
   },
   "source": [
    "**Ans.** Basically, we have mixure of Gaussians on variable $\\mathbf{x}$ as follows: \n",
    "$$p(\\mathbf{x}) = \\sum_{k=1}^{K} \\rho_k \\cfrac{1}{\\sqrt{det(2\\pi\\Sigma_k)}} \\exp[-\\cfrac{1}{2}(\\mathbf{x} - \\mathbf{\\mu}_k)^T \\sigma_k^{-1} (\\mathbf{x} - \\mathbf{\\mu}_k)]$$\n",
    "\n",
    "where $\\rho_k$ sum up to 1. Now the log-likelihood will be, as following\n",
    "\n",
    "$$\\ln p(\\mathbf{x}) = \\sum_{k=1}^{K} \\log(\\rho_k) - \\log(C) - \\log(det(2\\pi\\Sigma_k)) - \\cfrac{1}{2} ((\\mathbf{x} - \\mathbf{\\mu}_k)^T \\Sigma^{-1} (\\mathbf{x} - \\mathbf{\\mu}_k)) $$\n",
    "\n",
    "where $C$ in this case is a constant term (in front of Gausian distribution)\n",
    "\n",
    "Thus the gradient of log-likelihood with respect to mean and variance (giving we assuming that we know $\\rho_k$) is as follows\n",
    "\n",
    "$$\\cfrac{\\partial \\ln p(\\mathbf{x})}{\\partial \\mathbf{\\mu}_k} = \\Sigma_j^{-1} (\\mathbf{x} - \\mathbf{\\mu}_k)$$\n",
    "\n",
    "and \n",
    "\n",
    "$$\\cfrac{\\partial \\ln p(\\mathbf{x})}{\\partial \\Sigma_k} = \\cfrac{1}{2}[ - \\Sigma_k^{-1} + \\Sigma_k^{-1} (\\mathbf{x} - \\mathbf{\\mu}_k)(\\mathbf{x} - \\mathbf{\\mu}_k)^T \\Sigma_k^{-1}]$$\n",
    "\n",
    "**note (some matrix tricks):**\n",
    "\n",
    "- use this trick in finding gradient with respect to mean  $\\cfrac{\\partial}{\\partial \\mathbf{x}} (\\mathbf{x} - \\mathbf{s})^T \\mathbf{W} (\\mathbf{x} - \\mathbf{s}) = 2 \\mathbf{W} (\\mathbf{x} - \\mathbf{s})$\n",
    "- use this trick in finding gradient with respect to covariance matrix (in this case, we know that covariace matrix is symmetric so we can get rid of transpose) $\\cfrac{\\partial ln | \\det (\\mathbf{X}) |}{\\partial(\\mathbf{X})} = (X^{-1})^T$\n",
    "\n",
    "In this homework, we consider special case where Spherical covariance is as follows $\\Sigma = \\sigma_i^2 I$\n",
    "\n",
    "The likelihood and log-likelihood can be written as follows:\n",
    "\n",
    "$$p(\\mathbf{x}) = \\sum_{k=1}^{K} \\rho_k \\cfrac{1}{\\sqrt{2\\pi\\sigma_k}^{2d}}\\exp[-\\cfrac{1}{2} \\cfrac{(\\mathbf{x} - \\mathbf{\\mu}_k)^T (\\mathbf{x} - \\mathbf{\\mu}_k)}{\\sigma_k^2}]$$\n",
    "\n",
    "$$\\ln{p(\\mathbf{x})} = \\sum_{k=1}^{K} \\log(\\rho_k) - \\log(C) - d \\log{\\sigma}_k - \\cfrac{1}{2} \\cfrac{(\\mathbf{x} - \\mathbf{\\mu}_k)^T(\\mathbf{x} - \\mathbf{\\mu}_k)}{\\sigma_k^2}$$\n",
    "\n",
    "where $d$ is dimension of the Gaussian (in our case, $d = 2$)\n",
    "\n",
    "Therefore, the partial derivative with respect to mean and standard deviation is as follows:\n",
    "\n",
    "$$\\cfrac{\\partial \\ln p(\\mathbf{x})}{\\partial \\mathbf{\\mu}_k} = \\cfrac{(\\mathbf{x} - \\mathbf{\\mu}_k)}{\\sigma_k^2}$$\n",
    "\n",
    "$$\\cfrac{\\partial \\ln p(\\mathbf{x})}{\\partial \\mathbf{\\sigma}_k} = -\\cfrac{d}{\\sigma_k} + \\cfrac{(\\mathbf{x} - \\mathbf{\\mu})^T (\\mathbf{x} - \\mathbf{\\mu})}{\\sigma_k^3}$$"
   ]
  },
  {
   "cell_type": "code",
   "execution_count": 16,
   "metadata": {
    "collapsed": true
   },
   "outputs": [],
   "source": [
    "import numpy.linalg as la\n",
    "def inv(A):\n",
    "    \"\"\"return inverse of input matrix A\"\"\"\n",
    "    return la.inv(A)"
   ]
  },
  {
   "cell_type": "markdown",
   "metadata": {},
   "source": [
    "here is when we want to estimate mean and standard deviation for each clusters assuming spherical Gaussian distribution $\\Sigma_k = \\sigma_k^2 I$"
   ]
  },
  {
   "cell_type": "code",
   "execution_count": 17,
   "metadata": {
    "collapsed": false
   },
   "outputs": [
    {
     "data": {
      "image/png": "[encoded data removed]",
      "text/plain": [
       "<matplotlib.figure.Figure at 0x1104bf5c0>"
      ]
     },
     "metadata": {},
     "output_type": "display_data"
    },
    {
     "name": "stdout",
     "output_type": "stream",
     "text": [
      "Mean for each clusters is \n",
      " [ 5.85181235  2.18354997] [ 1.70854516  7.92789488]\n"
     ]
    }
   ],
   "source": [
    "# generate data for problem\n",
    "X1 = np.hstack((np.random.normal(6, 2, size=(100,1)), \n",
    "                np.random.normal(2, 2, size=(100, 1))))\n",
    "X2 = np.hstack((np.random.normal(2, 3, size=(100,1)), \n",
    "                np.random.normal(8, 2, size=(100, 1))))\n",
    "X = np.vstack((X1, X2))\n",
    "y = np.vstack([np.ones((100, 1)), np.zeros((100, 1))]).flatten()\n",
    "plt.scatter(X[(y==1).flatten(), 0], X[(y==1).flatten(), 1], color='r')\n",
    "plt.scatter(X[(y==0).flatten(), 0], X[(y==0).flatten(), 1], color='b')\n",
    "plt.xlabel('X')\n",
    "plt.ylabel('Y')\n",
    "plt.title('Generated cluster of 2-D data')\n",
    "plt.show()\n",
    "print('Mean for each clusters is \\n', \n",
    "      np.mean(X1, axis=0), \n",
    "      np.mean(X2, axis=0))"
   ]
  },
  {
   "cell_type": "code",
   "execution_count": 18,
   "metadata": {
    "collapsed": true
   },
   "outputs": [],
   "source": [
    "def rbf_kernel(x, y, s):\n",
    "    \"\"\"\n",
    "    Compute radial basis kernel of two vector\n",
    "    k(x, y) = exp(-||x-y||^2/s^2)\n",
    "    \"\"\"\n",
    "    d = len(x)\n",
    "    x = np.array(x)\n",
    "    y = np.array(y)\n",
    "    return (1./(np.sqrt(2*np.pi*(s**(2*d)))))*np.exp(-np.linalg.norm(x - y)**2/(s**2))"
   ]
  },
  {
   "cell_type": "code",
   "execution_count": 19,
   "metadata": {
    "collapsed": true
   },
   "outputs": [],
   "source": [
    "def prob_cluster(x, centers, sigma):\n",
    "    \"\"\"\n",
    "    compute probability belonging to each clusters\n",
    "    and class that data belong to\n",
    "    \"\"\"\n",
    "    p = [rbf_kernel(x, center, s) for (center, s) in zip(centers, sigma)]\n",
    "    p = np.array(p)\n",
    "    p = p/np.sum(p)\n",
    "    return p"
   ]
  },
  {
   "cell_type": "code",
   "execution_count": 20,
   "metadata": {
    "collapsed": true
   },
   "outputs": [],
   "source": [
    "def data_cluster(x, centers, sigma):\n",
    "    \"\"\"\n",
    "    compute probability belonging to each clusters\n",
    "    and class that data belong to\n",
    "    \"\"\"\n",
    "    p = [rbf_kernel(x, center, s) for (center, s) in zip(centers, sigma)]\n",
    "    p = np.array(p)\n",
    "    p = p/np.sum(p)\n",
    "    return np.argmax(p)"
   ]
  },
  {
   "cell_type": "code",
   "execution_count": 24,
   "metadata": {
    "collapsed": false
   },
   "outputs": [
    {
     "name": "stdout",
     "output_type": "stream",
     "text": [
      "Initialized center = \n",
      " [[ 8.71168965  5.54659487]\n",
      " [ 3.17398159 -0.10407014]]\n",
      "Initializerd standard deviation = \n",
      " [ 1.13329354  0.58835765]\n"
     ]
    }
   ],
   "source": [
    "lr_center = 1e-2\n",
    "lr_sigma = 1e-4\n",
    "n_iter = 100\n",
    "centers = random_centers(X, K=2)\n",
    "sigma = np.random.uniform(low=0.5, high=1.5, size=2)\n",
    "print('Initialized center = \\n', centers)\n",
    "print('Initializerd standard deviation = \\n', sigma)"
   ]
  },
  {
   "cell_type": "code",
   "execution_count": 26,
   "metadata": {
    "collapsed": false
   },
   "outputs": [
    {
     "name": "stdout",
     "output_type": "stream",
     "text": [
      "Final center = \n",
      " [[ 1.86801851  7.62045358]\n",
      " [ 6.21080082  1.79535352]]\n",
      "Final standard deviation = \n",
      " [ 2.35957228  1.77533294]\n"
     ]
    }
   ],
   "source": [
    "for n in range(n_iter):\n",
    "    # probability of each data points belong to each centers\n",
    "    P = np.vstack([prob_cluster(x, centers, sigma) for x in X])\n",
    "    grad_centers = np.zeros_like(centers)\n",
    "    grad_sigma = np.zeros_like(sigma)\n",
    "    for (p, x) in zip(P, X):\n",
    "        # loop through both cluster\n",
    "        for i in range(len(p)):\n",
    "            grad_centers[i] += p[i]*(x - centers[i])/sigma[i]**2\n",
    "            grad_sigma[i] += p[i]*((-2./sigma[i]) + \n",
    "                                   (x - centers[i]).dot(x - centers[i])/(sigma[i]**3))\n",
    "    centers = centers + lr_center*grad_centers\n",
    "    sigma = sigma + lr_sigma*grad_sigma\n",
    "print('Final center = \\n', centers)\n",
    "print('Final standard deviation = \\n', sigma)"
   ]
  },
  {
   "cell_type": "code",
   "execution_count": 27,
   "metadata": {
    "collapsed": false
   },
   "outputs": [
    {
     "name": "stdout",
     "output_type": "stream",
     "text": [
      "Output class for each data point: \n",
      " [1 1 1 1 1 1 1 1 1 1 0 0 1 1 1 1 1 1 1 1 1 1 1 1 1 1 1 1 1 1 0 1 1 0 1 0 1\n",
      " 1 0 0 1 1 1 1 1 1 1 1 1 1 1 1 0 1 1 1 1 1 1 1 1 1 1 1 1 1 1 1 1 1 0 1 1 1\n",
      " 1 1 1 1 1 1 1 1 1 0 1 1 1 1 1 0 1 1 1 1 1 0 0 1 1 1 0 0 0 0 0 0 0 0 0 0 0\n",
      " 0 0 0 0 0 0 0 0 0 0 0 0 0 0 0 0 0 0 0 0 0 0 1 0 0 0 0 0 0 0 0 0 0 0 0 0 0\n",
      " 0 0 0 0 0 0 0 0 0 0 0 0 0 0 0 0 0 0 0 0 0 0 0 0 0 0 0 0 0 0 0 0 0 0 0 0 0\n",
      " 0 0 0 0 0 0 0 0 0 0 0 0 0 0 0]\n"
     ]
    }
   ],
   "source": [
    "out = np.array([data_cluster(x, centers, sigma) for x in X]) # output cluster\n",
    "print('Output class for each data point: \\n', out)"
   ]
  },
  {
   "cell_type": "markdown",
   "metadata": {},
   "source": [
    "This is quite interesting in the case of $\\Sigma_k = \\sigma_k^2 I$ that we get standard deviation around 2 for the Guassian  generated data that has standard deviation of 2 for both axis. And standard deviation around 2.5 for generated data that has SD of 3, 2 for $x$, $y$ axis respectively. "
   ]
  },
  {
   "cell_type": "code",
   "execution_count": 29,
   "metadata": {
    "collapsed": false
   },
   "outputs": [
    {
     "data": {
      "image/png": "[encoded data removed]",
      "text/plain": [
       "<matplotlib.figure.Figure at 0x110991748>"
      ]
     },
     "metadata": {},
     "output_type": "display_data"
    }
   ],
   "source": [
    "fig = plt.figure(1)\n",
    "plt.axis([-5,15,-5,15])\n",
    "ax = fig.add_subplot(1,1,1)\n",
    "colors = ['b', 'r']\n",
    "circles = [plt.Circle((c[0], c[1]), s, color=co, fill=False) \n",
    "           for (c, s, co) in zip(centers, sigma, colors)]\n",
    "for circle in circles:\n",
    "    ax.add_patch(circle)\n",
    "for (center, co) in zip(centers, colors):\n",
    "    plt.scatter(center[0], center[1], color=co)\n",
    "plt.scatter(X[(y==1).flatten(), 0], X[(y==1).flatten(), 1], color='r', alpha=0.3)\n",
    "plt.scatter(X[(y==0).flatten(), 0], X[(y==0).flatten(), 1], color='b', alpha=0.3)\n",
    "plt.xlabel('X')\n",
    "plt.ylabel('Y')\n",
    "plt.title('Final cluster center and standard deviation')\n",
    "plt.show()"
   ]
  },
  {
   "cell_type": "code",
   "execution_count": null,
   "metadata": {
    "collapsed": true
   },
   "outputs": [],
   "source": []
  }
 ],
 "metadata": {
  "kernelspec": {
   "display_name": "Python 3",
   "language": "python",
   "name": "python3"
  },
  "language_info": {
   "codemirror_mode": {
    "name": "ipython",
    "version": 3
   },
   "file_extension": ".py",
   "mimetype": "text/x-python",
   "name": "python",
   "nbconvert_exporter": "python",
   "pygments_lexer": "ipython3",
   "version": "3.5.1"
  }
 },
 "nbformat": 4,
 "nbformat_minor": 0
}
