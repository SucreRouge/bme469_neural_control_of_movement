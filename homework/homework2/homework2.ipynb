{
 "cells": [
  {
   "cell_type": "markdown",
   "metadata": {},
   "source": [
    "# **Homework 2**\n",
    "\n",
    "Titipat Achakulvisut\n",
    "\n",
    "## **Problem 1: Classifier – back propagation**\n",
    "\n",
    "Use the code below to create three data clusters which are vertically stacked and therefore not linearly separable, as we discussed in class.  Your job is to create code implementing back propagation for a two layer neural network which can perform this classification.  Use a network with 4 hidden units, as indicated in the shell code. Don’t worry about cross validation and all that – feel free to just use all the data."
   ]
  },
  {
   "cell_type": "code",
   "execution_count": 1,
   "metadata": {
    "collapsed": true
   },
   "outputs": [],
   "source": [
    "%matplotlib inline\n",
    "import numpy as np\n",
    "import matplotlib.pyplot as plt\n",
    "import seaborn as sns"
   ]
  },
  {
   "cell_type": "code",
   "execution_count": 2,
   "metadata": {
    "collapsed": true
   },
   "outputs": [],
   "source": [
    "sd = .85\n",
    "X1 = np.vstack((np.random.normal(0, sd, size=(50,1)), \n",
    "                np.random.normal(0, sd, size=(50,1)), \n",
    "                np.random.normal(0, sd, size=(50,1))))\n",
    "X2 = np.vstack((np.random.normal(0, sd, size=(50,1)), \n",
    "                np.random.normal(5, sd, size=(50,1)), \n",
    "                np.random.normal(10, sd, size=(50,1))))\n",
    "# X3 = np.ones((150, 1))\n",
    "X = np.concatenate((X1, X2), axis=1)\n",
    "y = np.zeros((150, 3))\n",
    "y[0:50, 0] = 1\n",
    "y[50:100, 1] = 1\n",
    "y[100:150, 2] = 1"
   ]
  },
  {
   "cell_type": "code",
   "execution_count": 3,
   "metadata": {
    "collapsed": false
   },
   "outputs": [
    {
     "data": {
      "image/png": "[encoded data removed]",
      "text/plain": [
       "<matplotlib.figure.Figure at 0x10fa40f98>"
      ]
     },
     "metadata": {},
     "output_type": "display_data"
    }
   ],
   "source": [
    "plt.scatter(X[:,0], X[:,1], c=y);"
   ]
  },
  {
   "cell_type": "code",
   "execution_count": 4,
   "metadata": {
    "collapsed": true
   },
   "outputs": [],
   "source": [
    "def sigmoid(z):\n",
    "    return 1/(1 + np.exp(-z))\n",
    "\n",
    "def sigmoid_grad(z):\n",
    "    return sigmoid(z)*(1 - sigmoid(z))"
   ]
  },
  {
   "cell_type": "code",
   "execution_count": 5,
   "metadata": {
    "collapsed": true
   },
   "outputs": [],
   "source": [
    "ninput = 2\n",
    "nhidden = 4\n",
    "noutput = 3\n",
    "W = np.random.uniform(-1, 1, size=(ninput+1, nhidden)) - 0.5\n",
    "V = np.random.uniform(-1, 1, size=(nhidden+1, noutput)) - 0.5"
   ]
  },
  {
   "cell_type": "code",
   "execution_count": 6,
   "metadata": {
    "collapsed": true
   },
   "outputs": [],
   "source": [
    "def predict(W, V, X):\n",
    "    \"\"\"Do forward propagation given first and second layers\"\"\"\n",
    "    n, m = X.shape\n",
    "    a1 = np.concatenate((np.ones((n,1)), X), axis=1)\n",
    "    z2 = a1.dot(W)\n",
    "    a2 = sigmoid(z2)\n",
    "    a2 = np.concatenate((np.ones((n,1)), a2), axis=1)\n",
    "    z3 = a2.dot(V)\n",
    "    a3 = sigmoid(z3)\n",
    "    h = a3\n",
    "    return h"
   ]
  },
  {
   "cell_type": "code",
   "execution_count": 7,
   "metadata": {
    "collapsed": true
   },
   "outputs": [],
   "source": [
    "def compute_grad_bp(W, V, X, Y):\n",
    "    \"\"\"\n",
    "    Compute gradient of NN parameters for one iteration\n",
    "    using back propagation\n",
    "    \"\"\"\n",
    "    # initialize few parameters\n",
    "    n, m = X.shape\n",
    "    \n",
    "    dW = np.zeros_like(W)\n",
    "    dV = np.zeros_like(V)\n",
    "    \n",
    "    a1 = np.concatenate((np.ones((n,1)), X), axis=1)\n",
    "    z2 = a1.dot(W)\n",
    "    a2 = sigmoid(z2)\n",
    "    a2 = np.concatenate((np.ones((n,1)), a2), axis=1)\n",
    "    z3 = a2.dot(V)\n",
    "    a3 = sigmoid(z3)\n",
    "    h = a3\n",
    "    \n",
    "    # back propagation\n",
    "    delta3 = h - Y\n",
    "    delta2 = delta3.dot(V[1::,:].T)*sigmoid_grad(z2)\n",
    "    \n",
    "    dW = (1/m)*((delta2.T).dot(a1)).T\n",
    "    dV = (1/m)*((delta3.T).dot(a2)).T\n",
    "    \n",
    "    return dW, dV"
   ]
  },
  {
   "cell_type": "code",
   "execution_count": 8,
   "metadata": {
    "collapsed": true
   },
   "outputs": [],
   "source": [
    "# gradient descent to find final neural nets parameter\n",
    "n_iter = 4000\n",
    "mu = 0.01\n",
    "dW = np.zeros_like(W)\n",
    "dV = np.zeros_like(V)\n",
    "for i in range(n_iter):\n",
    "    dW, dV = compute_grad_bp(W, V, X, y)\n",
    "    W = W - mu*dW\n",
    "    V = V - mu*dV"
   ]
  },
  {
   "cell_type": "code",
   "execution_count": 9,
   "metadata": {
    "collapsed": false
   },
   "outputs": [
    {
     "name": "stdout",
     "output_type": "stream",
     "text": [
      "Predicted output class: \n",
      " [0 0 0 0 0 0 0 0 0 0 0 0 0 0 0 0 0 0 0 0 0 0 0 0 0 0 0 0 0 0 0 0 0 0 0 0 0\n",
      " 0 0 0 0 0 0 0 0 0 0 0 0 0 1 1 1 1 1 1 1 1 1 1 1 1 1 1 1 1 1 1 1 1 1 1 1 1\n",
      " 1 1 1 1 1 1 1 1 1 1 1 1 1 1 1 1 1 1 1 1 1 1 1 1 1 1 2 2 2 2 2 2 2 2 2 2 2\n",
      " 2 2 2 2 2 2 2 2 2 2 2 2 2 2 2 2 2 2 2 2 2 2 2 2 2 2 2 2 2 2 2 2 2 2 2 2 2\n",
      " 2 2]\n",
      "\n"
     ]
    }
   ],
   "source": [
    "y_hat = predict(W, V, X)\n",
    "print('Predicted output class: \\n', y_hat.argmax(axis=1))\n",
    "print( )"
   ]
  },
  {
   "cell_type": "code",
   "execution_count": 10,
   "metadata": {
    "collapsed": false
   },
   "outputs": [
    {
     "data": {
      "image/png": "[encoded data removed]",
      "text/plain": [
       "<matplotlib.figure.Figure at 0x10fb26668>"
      ]
     },
     "metadata": {},
     "output_type": "display_data"
    }
   ],
   "source": [
    "plt.plot(y_hat.argmax(axis=1), '.r', alpha=0.3)\n",
    "plt.plot(y.argmax(axis=1), '.b', alpha=0.3) # output class for each datapoint\n",
    "plt.xlabel('number of data point (i)')\n",
    "plt.ylabel('output class (y)')\n",
    "plt.legend(['predicted class', 'true class'])\n",
    "plt.show()"
   ]
  },
  {
   "cell_type": "markdown",
   "metadata": {},
   "source": [
    "## **Problem 2: Unsupervised learning – k-means clustering**\n",
    "\n",
    "In each of the next problems you are given data that appears to be produced by two clusters (use the code in ps1 `datasets.m`, 2a).  Your job in this problem is to use k-means clustering to classify the data according to two clusters. Plot the trajectory of the means as they are updated over iterations, with this trajectory superimposed over the data sets."
   ]
  },
  {
   "cell_type": "code",
   "execution_count": 11,
   "metadata": {
    "collapsed": false
   },
   "outputs": [],
   "source": [
    "X1 = np.hstack((np.random.normal(6, 1, size=(100,1)), \n",
    "                np.random.normal(2, 1, size=(100, 1))))\n",
    "X2 = np.hstack((np.random.normal(2, 1, size=(100,1)), \n",
    "                np.random.normal(8, 1, size=(100, 1))))\n",
    "X = np.vstack((X1, X2))"
   ]
  },
  {
   "cell_type": "code",
   "execution_count": 12,
   "metadata": {
    "collapsed": true
   },
   "outputs": [],
   "source": [
    "def update(X, centers, alpha=0.05):\n",
    "    \"\"\"Update K-mean center and compute cost in that iteration\"\"\"\n",
    "    # number of cluster\n",
    "    K = len(centers)\n",
    "    # compute distance\n",
    "    D = np.vstack([np.linalg.norm(X - center, axis=1) for center in centers]) \n",
    "    clusters = np.argmin(D.T, axis=1) # assign clusters\n",
    "    centers = np.vstack([X[clusters==k].mean(axis=0) for k in range(K)])\n",
    "\n",
    "    # compute cost of K-mean\n",
    "    J = np.sum([np.sum(np.linalg.norm(X[clusters==k] - centers[k], axis=1)) \n",
    "                for k in range(K)])\n",
    "    return centers, J, clusters"
   ]
  },
  {
   "cell_type": "code",
   "execution_count": 13,
   "metadata": {
    "collapsed": true
   },
   "outputs": [],
   "source": [
    "def random_centers(X, K=2):\n",
    "    \"\"\"\n",
    "    Randomly generate K centers from data X\n",
    "    \"\"\"\n",
    "    X_min = X.min(axis=0)\n",
    "    X_max = X.max(axis=0)\n",
    "    centers = []\n",
    "    for k in range(K):\n",
    "        center = [np.random.uniform(X_min[i], X_max[i]) for i in range(len(X_min))]\n",
    "        centers.append(center)\n",
    "    return np.array(centers)"
   ]
  },
  {
   "cell_type": "code",
   "execution_count": 16,
   "metadata": {
    "collapsed": false
   },
   "outputs": [
    {
     "name": "stdout",
     "output_type": "stream",
     "text": [
      "Initial centers are \n",
      " [[  0.95434532  10.08868663]\n",
      " [  5.11915697   7.99239601]]\n"
     ]
    }
   ],
   "source": [
    "n_iter = 100\n",
    "n_cluster = 2\n",
    "centers = random_centers(X, K=n_cluster) # random center\n",
    "print('Initial centers are \\n', centers)\n",
    "clusters = np.zeros(X.shape[0])\n",
    "u = True\n",
    "J_list = []\n",
    "centers_list = []\n",
    "while u:\n",
    "    clusters_prev = clusters\n",
    "    centers_list.append(centers)\n",
    "    centers, J, clusters = update(X, centers) # compute new center and cost\n",
    "    J_list.append(J)\n",
    "    if np.all(clusters_prev == clusters):\n",
    "        u = False"
   ]
  },
  {
   "cell_type": "code",
   "execution_count": 17,
   "metadata": {
    "collapsed": false
   },
   "outputs": [
    {
     "data": {
      "image/png": "[encoded data removed]",
      "text/plain": [
       "<matplotlib.figure.Figure at 0x10fef0438>"
      ]
     },
     "metadata": {},
     "output_type": "display_data"
    },
    {
     "name": "stdout",
     "output_type": "stream",
     "text": [
      "Center for final cluster are \n",
      " [2.0373661419273548, 8.0175687028703937]  and \n",
      " [6.1126558399686095, 1.9961355397100533]\n"
     ]
    }
   ],
   "source": [
    "plt.scatter(X[:, 0], X[:, 1], color='r', alpha=0.3)\n",
    "for c in centers_list:\n",
    "    for k in range(n_cluster):\n",
    "        plt.scatter(c[k][0], c[k][1], color='c', lw = 0)\n",
    "plt.xlabel('X')\n",
    "plt.ylabel('Y')\n",
    "plt.title('K-mean algorithm with center of the clusters')\n",
    "plt.show()\n",
    "print('Center for final cluster are \\n', \n",
    "      list(centers_list[-1][0]), ' and \\n', \n",
    "      list(centers_list[-1][1]))"
   ]
  },
  {
   "cell_type": "markdown",
   "metadata": {},
   "source": [
    "## **Problem 3: Unsupervised learning – ML gradient descent**\n",
    "\n",
    "Your job is to classify the same dataset as used in problem 2 into two clusters using ML gradient descent to update the values of mean and standard deviation of two Gaussian clusters.  Assume that the prior probabilities of each cluster are already given and fixed at 0.5 each.  "
   ]
  },
  {
   "cell_type": "markdown",
   "metadata": {
    "collapsed": true
   },
   "source": [
    "**Ans.** Basically, we have mixure of Gaussians on variable $\\mathbf{x}$ as follows: \n",
    "$$p(\\mathbf{x}) = \\sum_{k=1}^{K} \\rho_k \\cfrac{1}{\\sqrt{det(2\\pi\\Sigma_k)}} \\exp[-\\cfrac{1}{2}(\\mathbf{x} - \\mathbf{\\mu}_k)^T \\sigma_k^{-1} (\\mathbf{x} - \\mathbf{\\mu}_k)]$$\n",
    "\n",
    "where $\\rho_k$ sum up to 1. Now the log-likelihood will be, as following\n",
    "\n",
    "$$\\ln p(\\mathbf{x}) = \\sum_{k=1}^{K} \\log(\\rho_k) - \\log(C) - \\log(det(2\\pi\\Sigma_k)) - \\cfrac{1}{2} ((\\mathbf{x} - \\mathbf{\\mu}_k)^T \\Sigma^{-1} (\\mathbf{x} - \\mathbf{\\mu}_k)) $$\n",
    "\n",
    "where $C$ in this case is a constant term (in front of Gausian distribution)\n",
    "\n",
    "Thus the gradient of log-likelihood with respect to mean and variance (giving we assuming that we know $\\rho_k$) is as follows\n",
    "\n",
    "$$\\cfrac{\\partial \\ln p(\\mathbf{x})}{\\partial \\mathbf{\\mu}_k} = \\Sigma_j^{-1} (\\mathbf{x} - \\mathbf{\\mu}_k)$$\n",
    "\n",
    "and \n",
    "\n",
    "$$\\cfrac{\\partial \\ln p(\\mathbf{x})}{\\partial \\Sigma_k} = \\cfrac{1}{2}[ - \\Sigma_k^{-1} + \\Sigma_k^{-1} (\\mathbf{x} - \\mathbf{\\mu}_k)(\\mathbf{x} - \\mathbf{\\mu}_k)^T \\Sigma_k^{-1}]$$\n",
    "\n",
    "**note (some matrix tricks):**\n",
    "\n",
    "- use this trick in finding gradient with respect to mean  $\\cfrac{\\partial}{\\partial \\mathbf{x}} (\\mathbf{x} - \\mathbf{s})^T \\mathbf{W} (\\mathbf{x} - \\mathbf{s}) = 2 \\mathbf{W} (\\mathbf{x} - \\mathbf{s})$\n",
    "- use this trick in finding gradient with respect to covariance matrix (in this case, we know that covariace matrix is symmetric so we can get rid of transpose) $\\cfrac{\\partial ln | \\det (\\mathbf{X}) |}{\\partial(\\mathbf{X})} = (X^{-1})^T$\n",
    "\n",
    "In this homework, we consider special case where Spherical covariance is as follows $\\Sigma = \\sigma_i^2 I$\n",
    "\n",
    "The likelihood and log-likelihood can be written as follows:\n",
    "\n",
    "$$p(\\mathbf{x}) = \\sum_{k=1}^{K} \\rho_k \\cfrac{1}{\\sqrt{2\\pi\\sigma_k}^{2d}}\\exp[-\\cfrac{1}{2} \\cfrac{(\\mathbf{x} - \\mathbf{\\mu}_k)^T (\\mathbf{x} - \\mathbf{\\mu}_k)}{\\sigma_k^2}]$$\n",
    "\n",
    "$$\\ln{p(\\mathbf{x})} = \\sum_{k=1}^{K} \\log(\\rho_k) - \\log(C) - d \\log{\\sigma}_k - \\cfrac{1}{2} \\cfrac{(\\mathbf{x} - \\mathbf{\\mu}_k)^T(\\mathbf{x} - \\mathbf{\\mu}_k)}{\\sigma_k^2}$$\n",
    "\n",
    "where $d$ is dimension of the Gaussian (in our case, $d = 2$)\n",
    "\n",
    "Therefore, the partial derivative with respect to mean and standard deviation is as follows:\n",
    "\n",
    "$$\\cfrac{\\partial \\ln p(\\mathbf{x})}{\\partial \\mathbf{\\mu}_k} = \\cfrac{(\\mathbf{x} - \\mathbf{\\mu}_k)}{\\sigma_k^2}$$\n",
    "\n",
    "$$\\cfrac{\\partial \\ln p(\\mathbf{x})}{\\partial \\mathbf{\\sigma}_k} = -\\cfrac{d}{\\sigma_k} + \\cfrac{(\\mathbf{x} - \\mathbf{\\mu})^T (\\mathbf{x} - \\mathbf{\\mu})}{\\sigma_k^3}$$"
   ]
  },
  {
   "cell_type": "code",
   "execution_count": 18,
   "metadata": {
    "collapsed": true
   },
   "outputs": [],
   "source": [
    "import numpy.linalg as la\n",
    "def inv(A):\n",
    "    \"\"\"return inverse of input matrix A\"\"\"\n",
    "    return la.inv(A)"
   ]
  },
  {
   "cell_type": "code",
   "execution_count": 34,
   "metadata": {
    "collapsed": false
   },
   "outputs": [
    {
     "data": {
      "image/png": "[encoded data removed]",
      "text/plain": [
       "<matplotlib.figure.Figure at 0x110063b70>"
      ]
     },
     "metadata": {},
     "output_type": "display_data"
    },
    {
     "name": "stdout",
     "output_type": "stream",
     "text": [
      "Mean for each clusters is \n",
      " [ 5.97762635  2.06130873] [ 2.3907754   8.07372297]\n"
     ]
    }
   ],
   "source": [
    "X1 = np.hstack((np.random.normal(6, 2, size=(100,1)), \n",
    "                np.random.normal(2, 2, size=(100, 1))))\n",
    "X2 = np.hstack((np.random.normal(2, 3, size=(100,1)), \n",
    "                np.random.normal(8, 2, size=(100, 1))))\n",
    "X = np.vstack((X1, X2))\n",
    "y = np.vstack([np.ones((100, 1)), np.zeros((100, 1))]).flatten()\n",
    "plt.scatter(X[(y==1).flatten(), 0], X[(y==1).flatten(), 1], color='r')\n",
    "plt.scatter(X[(y==0).flatten(), 0], X[(y==0).flatten(), 1], color='b')\n",
    "plt.xlabel('X')\n",
    "plt.ylabel('Y')\n",
    "plt.title('Generated cluster of 2-D data')\n",
    "plt.show()\n",
    "print('Mean for each clusters is \\n', \n",
    "      np.mean(X1, axis=0), \n",
    "      np.mean(X2, axis=0))"
   ]
  },
  {
   "cell_type": "markdown",
   "metadata": {},
   "source": [
    "This is the case when we want to Gaussian mixure of mean and arbitrary covariance matrix. Here we print out final center of clusters and covariance matrix."
   ]
  },
  {
   "cell_type": "code",
   "execution_count": 35,
   "metadata": {
    "collapsed": false,
    "scrolled": false
   },
   "outputs": [
    {
     "name": "stdout",
     "output_type": "stream",
     "text": [
      "Initialize center = \n",
      " [[-3.30310346  9.9614267 ]\n",
      " [ 3.3980824   0.26279846]]\n",
      "Final centers: \n",
      " [[ 2.2187745   8.2022987 ]\n",
      " [ 6.07931861  2.08345724]]\n",
      "Covariance Matrix for each clusters: \n",
      " [[[ 4.54228822  0.15147648]\n",
      "  [ 0.15147648  3.06300025]]\n",
      "\n",
      " [[ 3.11112353  0.31427664]\n",
      "  [ 0.31427664  3.32500187]]]\n"
     ]
    }
   ],
   "source": [
    "mu_mean = 0.01 # learning rate for mean\n",
    "mu_v = 0.0005 # learning rate for variance\n",
    "n_iter = 150 # number of iteration\n",
    "centers = random_centers(X, K=2)\n",
    "print('Initialize center = \\n', centers)\n",
    "V = np.array([np.random.rand(1)*np.eye(2), np.random.rand(1)*np.eye(2)])\n",
    "p = np.array([0.5, 0.5])\n",
    "for n in range(n_iter):\n",
    "    V_grad = np.zeros_like(V)\n",
    "    # calculate cluster\n",
    "    D = np.vstack([np.linalg.norm(X - center, axis=1) for center in centers]) # distance\n",
    "    clusters = np.argmin(D.T, axis=1)\n",
    "    # update mean and covariance matrix\n",
    "    for i in range(len(X)):\n",
    "        centers[clusters[i]] = centers[clusters[i]] + \\\n",
    "            mu*(inv(V[clusters[i]]).dot(X[i] - centers[clusters[i]]))\n",
    "        D = np.vstack([np.linalg.norm(X - center, axis=1) for center in centers])\n",
    "        clusters = np.argmin(D.T, axis=1)\n",
    "        t = np.atleast_2d(X[i] - centers[clusters[i]]).T\n",
    "        cov = t.dot(t.T)\n",
    "        V_grad[clusters[i]] = \\\n",
    "            -inv(V[clusters[i]]) + inv(V[clusters[i]]).dot(cov).dot(inv(V[clusters[i]]))\n",
    "        V[clusters[i]] = V[clusters[i]] + mu_v*V_grad[clusters[i]]\n",
    "print('Final centers: \\n', centers)\n",
    "print('Covariance Matrix for each clusters: \\n', V)"
   ]
  },
  {
   "cell_type": "markdown",
   "metadata": {},
   "source": [
    "here is when we want to estimate mean and standard deviation for each clusters assuming spherical Gaussian distribution $\\Sigma_k = \\sigma_k^2 I$"
   ]
  },
  {
   "cell_type": "code",
   "execution_count": 36,
   "metadata": {
    "collapsed": false
   },
   "outputs": [
    {
     "name": "stdout",
     "output_type": "stream",
     "text": [
      "Initialized center = \n",
      " [[  3.94404792  12.59809373]\n",
      " [ -1.58455257   3.32380039]]\n",
      "Initializerd standard deviation = \n",
      " [ 0.89405052  0.47655866]\n",
      "Final center = \n",
      " [[ 2.21909428  8.22554251]\n",
      " [ 6.06099112  2.08882719]]\n",
      "Final standard deviation = \n",
      " [ 2.39708848  2.02551382]\n"
     ]
    }
   ],
   "source": [
    "# case when Sigma = (sigma^2)*I where I is identity matrix\n",
    "mu = 0.005\n",
    "mu_sigma = 0.001\n",
    "n_iter = 100\n",
    "centers = random_centers(X, K=2)\n",
    "print('Initialized center = \\n', centers)\n",
    "sigma = np.random.rand(2) # standard deviation\n",
    "print('Initializerd standard deviation = \\n', sigma)\n",
    "\n",
    "for n in range(n_iter):\n",
    "    D = np.vstack([np.linalg.norm(X - center, axis=1) for center in centers])\n",
    "    clusters = np.argmin(D.T, axis=1)\n",
    "    for i in range(len(X)):\n",
    "        # move center\n",
    "        centers[clusters[i]] = centers[clusters[i]] + \\\n",
    "            mu*((X[i] - centers[clusters[i]])/(sigma[clusters[i]])**2)\n",
    "        D = np.vstack([np.linalg.norm(X - center, axis=1) for center in centers])\n",
    "        clusters = np.argmin(D.T, axis=1)\n",
    "        cov = (X[i] - centers[clusters[i]]).dot((X[i] - centers[clusters[i]]))\n",
    "        sigma[clusters[i]] = sigma[clusters[i]] + \\\n",
    "            mu_sigma*(-1/sigma[clusters[i]] + cov*(1/(2*sigma[clusters[i]]**3)))\n",
    "print('Final center = \\n', centers)\n",
    "print('Final standard deviation = \\n', sigma)"
   ]
  },
  {
   "cell_type": "markdown",
   "metadata": {},
   "source": [
    "This is quite interesting in the case of $\\Sigma_k = \\sigma_k^2 I$ that we get standard deviation around 2 for the Guassian  generated data that has standard deviation of 2 for both axis. And standard deviation around 2.5 for generated data that has SD of 3, 2 for $x$, $y$ axis respectively"
   ]
  },
  {
   "cell_type": "code",
   "execution_count": 37,
   "metadata": {
    "collapsed": false
   },
   "outputs": [
    {
     "data": {
      "image/png": "[encoded data removed]",
      "text/plain": [
       "<matplotlib.figure.Figure at 0x10fe04ba8>"
      ]
     },
     "metadata": {},
     "output_type": "display_data"
    }
   ],
   "source": [
    "fig = plt.figure(1)\n",
    "plt.axis([-5,15,-5,15])\n",
    "ax = fig.add_subplot(1,1,1)\n",
    "colors = ['b', 'r']\n",
    "circles = [plt.Circle((c[0], c[1]), s, color=co, fill=False) \n",
    "           for (c, s, co) in zip(centers, sigma, colors)]\n",
    "for circle in circles:\n",
    "    ax.add_patch(circle)\n",
    "for (center, co) in zip(centers, colors):\n",
    "    plt.scatter(center[0], center[1], color=co)\n",
    "plt.scatter(X[(y==1).flatten(), 0], X[(y==1).flatten(), 1], color='r', alpha=0.3)\n",
    "plt.scatter(X[(y==0).flatten(), 0], X[(y==0).flatten(), 1], color='b', alpha=0.3)\n",
    "plt.xlabel('X')\n",
    "plt.ylabel('Y')\n",
    "plt.title('Final cluster center and standard deviation')\n",
    "plt.show()"
   ]
  },
  {
   "cell_type": "code",
   "execution_count": null,
   "metadata": {
    "collapsed": true
   },
   "outputs": [],
   "source": []
  }
 ],
 "metadata": {
  "kernelspec": {
   "display_name": "Python 3",
   "language": "python",
   "name": "python3"
  },
  "language_info": {
   "codemirror_mode": {
    "name": "ipython",
    "version": 3
   },
   "file_extension": ".py",
   "mimetype": "text/x-python",
   "name": "python",
   "nbconvert_exporter": "python",
   "pygments_lexer": "ipython3",
   "version": "3.5.1"
  }
 },
 "nbformat": 4,
 "nbformat_minor": 0
}
