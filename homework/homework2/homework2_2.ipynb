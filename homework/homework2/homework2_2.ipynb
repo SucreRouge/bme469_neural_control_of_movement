{
 "cells": [
  {
   "cell_type": "markdown",
   "metadata": {},
   "source": [
    "# **Homework 2**\n",
    "\n",
    "Titipat Achakulvisut\n",
    "\n",
    "## **Problem 1: Classifier – back propagation**\n",
    "\n",
    "Use the code below to create three data clusters which are vertically stacked and therefore not linearly separable, as we discussed in class.  Your job is to create code implementing back propagation for a two layer neural network which can perform this classification.  Use a network with 4 hidden units, as indicated in the shell code. Don’t worry about cross validation and all that – feel free to just use all the data."
   ]
  },
  {
   "cell_type": "code",
   "execution_count": 1,
   "metadata": {
    "collapsed": true
   },
   "outputs": [],
   "source": [
    "%matplotlib inline\n",
    "import numpy as np\n",
    "import matplotlib.pyplot as plt\n",
    "import seaborn as sns"
   ]
  },
  {
   "cell_type": "code",
   "execution_count": 2,
   "metadata": {
    "collapsed": true
   },
   "outputs": [],
   "source": [
    "sd = .85\n",
    "X1 = np.vstack((np.random.normal(0, sd, size=(50,1)), \n",
    "                np.random.normal(0, sd, size=(50,1)), \n",
    "                np.random.normal(0, sd, size=(50,1))))\n",
    "X2 = np.vstack((np.random.normal(0, sd, size=(50,1)), \n",
    "                np.random.normal(5, sd, size=(50,1)), \n",
    "                np.random.normal(10, sd, size=(50,1))))\n",
    "# X3 = np.ones((150, 1))\n",
    "X = np.concatenate((X1, X2), axis=1)\n",
    "y = np.zeros((150, 3))\n",
    "y[0:50, 0] = 1\n",
    "y[50:100, 1] = 1\n",
    "y[100:150, 2] = 1"
   ]
  },
  {
   "cell_type": "code",
   "execution_count": 3,
   "metadata": {
    "collapsed": false
   },
   "outputs": [
    {
     "data": {
      "image/png": "[encoded data removed]",
      "text/plain": [
       "<matplotlib.figure.Figure at 0x10695ba90>"
      ]
     },
     "metadata": {},
     "output_type": "display_data"
    }
   ],
   "source": [
    "plt.scatter(X[:,0], X[:,1], c=y);"
   ]
  },
  {
   "cell_type": "code",
   "execution_count": 4,
   "metadata": {
    "collapsed": true
   },
   "outputs": [],
   "source": [
    "def sigmoid(z):\n",
    "    return 1/(1 + np.exp(-z))\n",
    "\n",
    "def sigmoid_grad(z):\n",
    "    return sigmoid(z)*(1 - sigmoid(z))"
   ]
  },
  {
   "cell_type": "code",
   "execution_count": 5,
   "metadata": {
    "collapsed": true
   },
   "outputs": [],
   "source": [
    "ninput = 2\n",
    "nhidden = 4\n",
    "noutput = 3\n",
    "W = np.random.uniform(-1, 1, size=(ninput+1, nhidden)) - 0.5\n",
    "V = np.random.uniform(-1, 1, size=(nhidden+1, noutput)) - 0.5"
   ]
  },
  {
   "cell_type": "code",
   "execution_count": 6,
   "metadata": {
    "collapsed": true
   },
   "outputs": [],
   "source": [
    "def predict(W, V, X):\n",
    "    \"\"\"Do forward propagation given first and second layers\"\"\"\n",
    "    n, m = X.shape\n",
    "    a1 = np.concatenate((np.ones((n,1)), X), axis=1)\n",
    "    z2 = a1.dot(W)\n",
    "    a2 = sigmoid(z2)\n",
    "    a2 = np.concatenate((np.ones((n,1)), a2), axis=1)\n",
    "    z3 = a2.dot(V)\n",
    "    a3 = sigmoid(z3)\n",
    "    h = a3\n",
    "    return h"
   ]
  },
  {
   "cell_type": "code",
   "execution_count": 7,
   "metadata": {
    "collapsed": true
   },
   "outputs": [],
   "source": [
    "def compute_grad_bp(W, V, X, Y):\n",
    "    \"\"\"\n",
    "    Compute gradient of NN parameters for one iteration\n",
    "    using back propagation\n",
    "    \"\"\"\n",
    "    # initialize few parameters\n",
    "    n, m = X.shape\n",
    "    \n",
    "    dW = np.zeros_like(W)\n",
    "    dV = np.zeros_like(V)\n",
    "    \n",
    "    a1 = np.concatenate((np.ones((n,1)), X), axis=1)\n",
    "    z2 = a1.dot(W)\n",
    "    a2 = sigmoid(z2)\n",
    "    a2 = np.concatenate((np.ones((n,1)), a2), axis=1)\n",
    "    z3 = a2.dot(V)\n",
    "    a3 = sigmoid(z3)\n",
    "    h = a3\n",
    "    \n",
    "    # back propagation\n",
    "    delta3 = h - Y\n",
    "    delta2 = delta3.dot(V[1::,:].T)*sigmoid_grad(z2)\n",
    "    \n",
    "    dW = (1/m)*((delta2.T).dot(a1)).T\n",
    "    dV = (1/m)*((delta3.T).dot(a2)).T\n",
    "    \n",
    "    return dW, dV"
   ]
  },
  {
   "cell_type": "code",
   "execution_count": 8,
   "metadata": {
    "collapsed": true
   },
   "outputs": [],
   "source": [
    "# gradient descent to find final neural nets parameter\n",
    "n_iter = 4000\n",
    "mu = 0.01\n",
    "dW = np.zeros_like(W)\n",
    "dV = np.zeros_like(V)\n",
    "for i in range(n_iter):\n",
    "    dW, dV = compute_grad_bp(W, V, X, y)\n",
    "    W = W - mu*dW\n",
    "    V = V - mu*dV"
   ]
  },
  {
   "cell_type": "code",
   "execution_count": 9,
   "metadata": {
    "collapsed": false
   },
   "outputs": [
    {
     "name": "stdout",
     "output_type": "stream",
     "text": [
      "Predicted output class: \n",
      " [0 0 0 0 0 0 0 0 0 0 0 0 0 0 0 0 0 0 0 0 0 0 0 0 0 0 0 0 0 0 0 0 0 0 0 0 0\n",
      " 0 0 0 0 0 0 0 0 0 0 0 0 0 1 1 1 1 1 1 1 1 1 1 1 1 1 1 1 1 1 1 1 1 1 1 1 1\n",
      " 1 1 1 1 1 1 1 1 1 1 1 1 1 1 1 1 1 1 1 1 1 1 1 1 1 1 2 2 2 2 2 2 2 2 2 2 2\n",
      " 2 2 2 2 2 2 2 2 2 2 2 2 2 2 2 2 2 2 2 2 2 2 2 2 2 2 2 2 2 2 2 2 2 2 2 2 2\n",
      " 2 2]\n",
      "\n"
     ]
    }
   ],
   "source": [
    "y_hat = predict(W, V, X)\n",
    "print('Predicted output class: \\n', y_hat.argmax(axis=1))\n",
    "print( )"
   ]
  },
  {
   "cell_type": "code",
   "execution_count": 10,
   "metadata": {
    "collapsed": false
   },
   "outputs": [
    {
     "data": {
      "image/png": "[encoded data removed]",
      "text/plain": [
       "<matplotlib.figure.Figure at 0x10fb42cc0>"
      ]
     },
     "metadata": {},
     "output_type": "display_data"
    }
   ],
   "source": [
    "plt.plot(y_hat.argmax(axis=1), '.r', alpha=0.3)\n",
    "plt.plot(y.argmax(axis=1), '.b', alpha=0.3) # output class for each datapoint\n",
    "plt.xlabel('number of data point (i)')\n",
    "plt.ylabel('output class (y)')\n",
    "plt.legend(['predicted class', 'true class'])\n",
    "plt.show()"
   ]
  },
  {
   "cell_type": "markdown",
   "metadata": {},
   "source": [
    "## **Problem 2: Unsupervised learning – k-means clustering**\n",
    "\n",
    "In each of the next problems you are given data that appears to be produced by two clusters (use the code in ps1 `datasets.m`, 2a).  Your job in this problem is to use k-means clustering to classify the data according to two clusters. Plot the trajectory of the means as they are updated over iterations, with this trajectory superimposed over the data sets."
   ]
  },
  {
   "cell_type": "code",
   "execution_count": 11,
   "metadata": {
    "collapsed": false
   },
   "outputs": [],
   "source": [
    "X1 = np.hstack((np.random.normal(6, 1, size=(100,1)), \n",
    "                np.random.normal(2, 1, size=(100, 1))))\n",
    "X2 = np.hstack((np.random.normal(2, 1, size=(100,1)), \n",
    "                np.random.normal(8, 1, size=(100, 1))))\n",
    "X = np.vstack((X1, X2))"
   ]
  },
  {
   "cell_type": "code",
   "execution_count": 12,
   "metadata": {
    "collapsed": true
   },
   "outputs": [],
   "source": [
    "def update(X, centers, alpha=0.05):\n",
    "    \"\"\"Update K-mean center and compute cost in that iteration\"\"\"\n",
    "    # number of cluster\n",
    "    K = len(centers)\n",
    "    # compute distance\n",
    "    D = np.vstack([np.linalg.norm(X - center, axis=1) for center in centers]) \n",
    "    clusters = np.argmin(D.T, axis=1) # assign clusters\n",
    "    centers = np.vstack([X[clusters==k].mean(axis=0) for k in range(K)])\n",
    "\n",
    "    # compute cost of K-mean\n",
    "    J = np.sum([np.sum(np.linalg.norm(X[clusters==k] - centers[k], axis=1)) \n",
    "                for k in range(K)])\n",
    "    return centers, J, clusters"
   ]
  },
  {
   "cell_type": "code",
   "execution_count": 13,
   "metadata": {
    "collapsed": true
   },
   "outputs": [],
   "source": [
    "def random_centers(X, K=2):\n",
    "    \"\"\"\n",
    "    Randomly generate K centers from data X\n",
    "    \"\"\"\n",
    "    X_min = X.min(axis=0)\n",
    "    X_max = X.max(axis=0)\n",
    "    centers = []\n",
    "    for k in range(K):\n",
    "        center = [np.random.uniform(X_min[i], X_max[i]) for i in range(len(X_min))]\n",
    "        centers.append(center)\n",
    "    return np.array(centers)"
   ]
  },
  {
   "cell_type": "code",
   "execution_count": 14,
   "metadata": {
    "collapsed": false
   },
   "outputs": [
    {
     "name": "stdout",
     "output_type": "stream",
     "text": [
      "Initial centers are \n",
      " [[ 6.90985114  2.63489775]\n",
      " [ 3.88114647  7.45748333]]\n"
     ]
    }
   ],
   "source": [
    "n_iter = 100\n",
    "n_cluster = 2\n",
    "centers = random_centers(X, K=n_cluster) # random center\n",
    "print('Initial centers are \\n', centers)\n",
    "clusters = np.zeros(X.shape[0])\n",
    "u = True\n",
    "J_list = []\n",
    "centers_list = []\n",
    "while u:\n",
    "    clusters_prev = clusters\n",
    "    centers_list.append(centers)\n",
    "    centers, J, clusters = update(X, centers) # compute new center and cost\n",
    "    J_list.append(J)\n",
    "    if np.all(clusters_prev == clusters):\n",
    "        u = False"
   ]
  },
  {
   "cell_type": "code",
   "execution_count": 15,
   "metadata": {
    "collapsed": false
   },
   "outputs": [
    {
     "data": {
      "image/png": "[encoded data removed]",
      "text/plain": [
       "<matplotlib.figure.Figure at 0x10fcdd588>"
      ]
     },
     "metadata": {},
     "output_type": "display_data"
    },
    {
     "name": "stdout",
     "output_type": "stream",
     "text": [
      "Center for final cluster are \n",
      " [5.8350106130994046, 1.845847253250521]  and \n",
      " [1.9500944871562012, 7.9396316730666197]\n"
     ]
    }
   ],
   "source": [
    "plt.scatter(X[:, 0], X[:, 1], color='r', alpha=0.3)\n",
    "for c in centers_list:\n",
    "    for k in range(n_cluster):\n",
    "        plt.scatter(c[k][0], c[k][1], color='c', lw = 0)\n",
    "plt.xlabel('X')\n",
    "plt.ylabel('Y')\n",
    "plt.title('K-mean algorithm with center of the clusters')\n",
    "plt.show()\n",
    "print('Center for final cluster are \\n', \n",
    "      list(centers_list[-1][0]), ' and \\n', \n",
    "      list(centers_list[-1][1]))"
   ]
  },
  {
   "cell_type": "markdown",
   "metadata": {},
   "source": [
    "## **Problem 3: Unsupervised learning – ML gradient descent**\n",
    "\n",
    "Your job is to classify the same dataset as used in problem 2 into two clusters using ML gradient descent to update the values of mean and standard deviation of two Gaussian clusters.  Assume that the prior probabilities of each cluster are already given and fixed at 0.5 each.  "
   ]
  },
  {
   "cell_type": "markdown",
   "metadata": {
    "collapsed": true
   },
   "source": [
    "**Ans.** Basically, we have mixure of Gaussians on variable $\\mathbf{x}$ as follows: \n",
    "$$p(\\mathbf{x}) = \\sum_{k=1}^{K} \\rho_k \\cfrac{1}{\\sqrt{det(2\\pi\\Sigma_k)}} \\exp[-\\cfrac{1}{2}(\\mathbf{x} - \\mathbf{\\mu}_k)^T \\sigma_k^{-1} (\\mathbf{x} - \\mathbf{\\mu}_k)]$$\n",
    "\n",
    "where $\\rho_k$ sum up to 1. Now the log-likelihood will be, as following\n",
    "\n",
    "$$\\ln p(\\mathbf{x}) = \\sum_{k=1}^{K} \\log(\\rho_k) - \\log(C) - \\log(det(2\\pi\\Sigma_k)) - \\cfrac{1}{2} ((\\mathbf{x} - \\mathbf{\\mu}_k)^T \\Sigma^{-1} (\\mathbf{x} - \\mathbf{\\mu}_k)) $$\n",
    "\n",
    "where $C$ in this case is a constant term (in front of Gausian distribution)\n",
    "\n",
    "Thus the gradient of log-likelihood with respect to mean and variance (giving we assuming that we know $\\rho_k$) is as follows\n",
    "\n",
    "$$\\cfrac{\\partial \\ln p(\\mathbf{x})}{\\partial \\mathbf{\\mu}_k} = \\Sigma_j^{-1} (\\mathbf{x} - \\mathbf{\\mu}_k)$$\n",
    "\n",
    "and \n",
    "\n",
    "$$\\cfrac{\\partial \\ln p(\\mathbf{x})}{\\partial \\Sigma_k} = \\cfrac{1}{2}[ - \\Sigma_k^{-1} + \\Sigma_k^{-1} (\\mathbf{x} - \\mathbf{\\mu}_k)(\\mathbf{x} - \\mathbf{\\mu}_k)^T \\Sigma_k^{-1}]$$\n",
    "\n",
    "**note (some matrix tricks):**\n",
    "\n",
    "- use this trick in finding gradient with respect to mean  $\\cfrac{\\partial}{\\partial \\mathbf{x}} (\\mathbf{x} - \\mathbf{s})^T \\mathbf{W} (\\mathbf{x} - \\mathbf{s}) = 2 \\mathbf{W} (\\mathbf{x} - \\mathbf{s})$\n",
    "- use this trick in finding gradient with respect to covariance matrix (in this case, we know that covariace matrix is symmetric so we can get rid of transpose) $\\cfrac{\\partial ln | \\det (\\mathbf{X}) |}{\\partial(\\mathbf{X})} = (X^{-1})^T$\n",
    "\n",
    "In this homework, we consider special case where Spherical covariance is as follows $\\Sigma = \\sigma_i^2 I$\n",
    "\n",
    "The likelihood and log-likelihood can be written as follows:\n",
    "\n",
    "$$p(\\mathbf{x}) = \\sum_{k=1}^{K} \\rho_k \\cfrac{1}{\\sqrt{2\\pi\\sigma_k}^{2d}}\\exp[-\\cfrac{1}{2} \\cfrac{(\\mathbf{x} - \\mathbf{\\mu}_k)^T (\\mathbf{x} - \\mathbf{\\mu}_k)}{\\sigma_k^2}]$$\n",
    "\n",
    "$$\\ln{p(\\mathbf{x})} = \\sum_{k=1}^{K} \\log(\\rho_k) - \\log(C) - d \\log{\\sigma}_k - \\cfrac{1}{2} \\cfrac{(\\mathbf{x} - \\mathbf{\\mu}_k)^T(\\mathbf{x} - \\mathbf{\\mu}_k)}{\\sigma_k^2}$$\n",
    "\n",
    "where $d$ is dimension of the Gaussian (in our case, $d = 2$)\n",
    "\n",
    "Therefore, the partial derivative with respect to mean and standard deviation is as follows:\n",
    "\n",
    "$$\\cfrac{\\partial \\ln p(\\mathbf{x})}{\\partial \\mathbf{\\mu}_k} = \\cfrac{(\\mathbf{x} - \\mathbf{\\mu}_k)}{\\sigma_k^2}$$\n",
    "\n",
    "$$\\cfrac{\\partial \\ln p(\\mathbf{x})}{\\partial \\mathbf{\\sigma}_k} = -\\cfrac{d}{\\sigma_k} + \\cfrac{(\\mathbf{x} - \\mathbf{\\mu})^T (\\mathbf{x} - \\mathbf{\\mu})}{\\sigma_k^3}$$"
   ]
  },
  {
   "cell_type": "code",
   "execution_count": 16,
   "metadata": {
    "collapsed": true
   },
   "outputs": [],
   "source": [
    "import numpy.linalg as la\n",
    "def inv(A):\n",
    "    \"\"\"return inverse of input matrix A\"\"\"\n",
    "    return la.inv(A)"
   ]
  },
  {
   "cell_type": "code",
   "execution_count": 17,
   "metadata": {
    "collapsed": false
   },
   "outputs": [
    {
     "data": {
      "image/png": "[encoded data removed]",
      "text/plain": [
       "<matplotlib.figure.Figure at 0x10fcc37b8>"
      ]
     },
     "metadata": {},
     "output_type": "display_data"
    },
    {
     "name": "stdout",
     "output_type": "stream",
     "text": [
      "Mean for each clusters is \n",
      " [ 5.92435433  2.15143611] [ 1.99348394  7.75918159]\n"
     ]
    }
   ],
   "source": [
    "# generate data for problem\n",
    "X1 = np.hstack((np.random.normal(6, 2, size=(100,1)), \n",
    "                np.random.normal(2, 2, size=(100, 1))))\n",
    "X2 = np.hstack((np.random.normal(2, 3, size=(100,1)), \n",
    "                np.random.normal(8, 2, size=(100, 1))))\n",
    "X = np.vstack((X1, X2))\n",
    "y = np.vstack([np.ones((100, 1)), np.zeros((100, 1))]).flatten()\n",
    "plt.scatter(X[(y==1).flatten(), 0], X[(y==1).flatten(), 1], color='r')\n",
    "plt.scatter(X[(y==0).flatten(), 0], X[(y==0).flatten(), 1], color='b')\n",
    "plt.xlabel('X')\n",
    "plt.ylabel('Y')\n",
    "plt.title('Generated cluster of 2-D data')\n",
    "plt.show()\n",
    "print('Mean for each clusters is \\n', \n",
    "      np.mean(X1, axis=0), \n",
    "      np.mean(X2, axis=0))"
   ]
  },
  {
   "cell_type": "markdown",
   "metadata": {},
   "source": [
    "This is the case when we want to Gaussian mixure of mean and arbitrary covariance matrix. Here we print out final center of clusters and covariance matrix."
   ]
  },
  {
   "cell_type": "code",
   "execution_count": 18,
   "metadata": {
    "collapsed": false,
    "scrolled": false
   },
   "outputs": [],
   "source": [
    "def data_cluster_matrix(x, centers, sigma):\n",
    "    \"\"\"compute class of data point x for all centers and sigma\"\"\"\n",
    "    p = [float(rbf_kernel_matrix(x, center, s)) \n",
    "         for (center, s) in zip(centers, sigma)]\n",
    "    c = np.argmax(p)\n",
    "    return c"
   ]
  },
  {
   "cell_type": "code",
   "execution_count": 19,
   "metadata": {
    "collapsed": true
   },
   "outputs": [],
   "source": [
    "def rbf_kernel_matrix(x, y, S):\n",
    "    \"\"\"\n",
    "    Compute radial basis kernel of two vector\n",
    "    k(x, y) = exp(-||x-y||^2/s^2)\n",
    "    \"\"\"\n",
    "    nom = np.exp(-(x-y).T.dot(np.linalg.inv(S)).dot(x-y))\n",
    "    denom = np.sqrt(np.linalg.det(2.*np.pi*S))\n",
    "    return nom/denom"
   ]
  },
  {
   "cell_type": "code",
   "execution_count": 23,
   "metadata": {
    "collapsed": false
   },
   "outputs": [
    {
     "name": "stdout",
     "output_type": "stream",
     "text": [
      "Initialized center = \n",
      " [[[ 3.]\n",
      "  [ 8.]]\n",
      "\n",
      " [[ 5.]\n",
      "  [ 4.]]]\n",
      "Initializerd covariance matrix = \n",
      " [[[ 0.58919867  0.        ]\n",
      "  [ 0.          0.9038983 ]]\n",
      "\n",
      " [[ 1.48167468  0.        ]\n",
      "  [ 0.          1.2915064 ]]]\n",
      "Final center = \n",
      " [[[ 1.81923247]\n",
      "  [ 7.91747142]]\n",
      "\n",
      " [[ 5.91971954]\n",
      "  [ 2.22827303]]]\n",
      "Final covariance matrix = \n",
      " [[[ 4.7361565  -0.22237403]\n",
      "  [-0.22237403  3.26363719]]\n",
      "\n",
      " [[ 3.77239754  0.40246277]\n",
      "  [ 0.40246277  3.2523976 ]]]\n",
      "Output class for each data points: \n",
      " [1 1 1 1 1 1 1 1 1 1 1 0 1 1 1 1 1 1 1 1 1 1 1 1 1 1 1 1 1 1 1 1 1 1 1 1 1\n",
      " 1 1 1 1 1 0 1 1 1 1 1 1 1 1 1 1 1 1 1 1 1 1 1 1 1 1 1 1 1 1 1 1 0 1 1 1 1\n",
      " 1 1 1 1 1 1 1 1 1 1 1 1 1 1 1 0 1 1 1 1 1 1 1 1 1 1 0 0 0 0 0 0 0 1 0 0 0\n",
      " 0 0 0 0 0 0 0 0 1 0 0 0 0 0 0 0 0 0 0 0 0 1 0 0 0 0 0 0 0 0 0 0 0 0 1 0 0\n",
      " 1 0 0 0 0 0 0 1 0 0 0 0 0 0 0 1 0 0 0 0 0 1 0 0 0 0 0 0 0 0 0 0 0 0 0 0 0\n",
      " 0 0 0 0 0 0 0 0 0 0 0 0 0 0 0]\n"
     ]
    }
   ],
   "source": [
    "mu = 0.005\n",
    "mu_sigma = 0.001\n",
    "n_iter = 150\n",
    "# centers = random_centers(X, K=2)\n",
    "centers = np.array([[3., 8.], [5., 4.]])\n",
    "centers = [np.atleast_2d(c).T for c in centers]\n",
    "sigma = [np.random.uniform(0.5, 1.5, 2)*np.eye(2), np.random.uniform(0.5, 1.5, 2)*np.eye(2)]\n",
    "print('Initialized center = \\n', np.array(centers))\n",
    "print('Initializerd covariance matrix = \\n', np.array(sigma))\n",
    "\n",
    "for n in range(n_iter):\n",
    "    for i in range(len(X)):\n",
    "        x = np.atleast_2d(X[i]).T\n",
    "        c = data_cluster_matrix(x, centers, sigma)\n",
    "        centers[c] = centers[c] + mu*(inv(sigma[c]).dot(x - centers[c]))\n",
    "        c = data_cluster_matrix(x, centers, sigma)\n",
    "        cov = (x - centers[c]).dot((x - centers[c]).T)\n",
    "        sigma[c] = sigma[c] + mu_sigma*(-inv(sigma[c]) + inv(sigma[c]).dot(cov).dot(inv(sigma[c])))\n",
    "print('Final center = \\n', np.array(centers))\n",
    "print('Final covariance matrix = \\n', np.array(sigma))\n",
    "out = np.array([data_cluster_matrix(np.atleast_2d(x).T, centers, sigma) for x in X])\n",
    "print('Output class for each data points: \\n', out)"
   ]
  },
  {
   "cell_type": "markdown",
   "metadata": {},
   "source": [
    "here is when we want to estimate mean and standard deviation for each clusters assuming spherical Gaussian distribution $\\Sigma_k = \\sigma_k^2 I$"
   ]
  },
  {
   "cell_type": "code",
   "execution_count": 24,
   "metadata": {
    "collapsed": true
   },
   "outputs": [],
   "source": [
    "def rbf_kernel(x, y, s):\n",
    "    \"\"\"\n",
    "    Compute radial basis kernel of two vector\n",
    "    k(x, y) = exp(-||x-y||^2/s^2)\n",
    "    \"\"\"\n",
    "    d = len(x)\n",
    "    x = np.array(x)\n",
    "    y = np.array(y)\n",
    "    return (1./(np.sqrt(2*np.pi*(s**(2*d)))))*np.exp(-np.linalg.norm(x - y)**2/(s**2))"
   ]
  },
  {
   "cell_type": "code",
   "execution_count": 25,
   "metadata": {
    "collapsed": true
   },
   "outputs": [],
   "source": [
    "def data_cluster(x, centers, sigma):\n",
    "    \"\"\"\n",
    "    compute probability belonging to each clusters\n",
    "    and class that data belong to\n",
    "    \"\"\"\n",
    "    p = [rbf_kernel(x, center, s) for (center, s) in zip(centers, sigma)]\n",
    "    p = np.array(p)\n",
    "    c = np.argmax(p) # class of the data point\n",
    "    return int(c)"
   ]
  },
  {
   "cell_type": "code",
   "execution_count": 26,
   "metadata": {
    "collapsed": false
   },
   "outputs": [
    {
     "name": "stdout",
     "output_type": "stream",
     "text": [
      "Initialized center = \n",
      " [[ 3.  8.]\n",
      " [ 5.  4.]]\n",
      "Initializerd standard deviation = \n",
      " [ 1.49390432  0.65359494]\n",
      "Final center = \n",
      " [[ 1.82060197  7.91788002]\n",
      " [ 5.90642541  2.23049265]]\n",
      "Final standard deviation = \n",
      " [ 2.2394823   1.96478332]\n",
      "Output class for each data point: \n",
      " [1 1 1 1 1 1 1 1 1 1 1 0 1 1 1 1 1 1 1 1 1 1 1 1 1 1 1 1 1 1 1 1 1 1 1 1 1\n",
      " 1 1 1 1 1 0 1 1 1 1 1 1 1 1 1 1 1 1 1 1 1 1 1 1 1 1 1 1 1 1 1 1 0 1 1 1 1\n",
      " 1 1 1 1 1 1 1 1 1 1 1 1 1 1 1 0 1 1 1 1 1 1 1 1 1 1 0 0 0 0 0 0 0 1 0 0 0\n",
      " 0 0 0 0 0 0 0 0 1 0 0 0 0 0 0 0 0 0 0 0 0 1 0 0 0 0 0 0 0 0 0 0 0 0 1 0 0\n",
      " 1 0 0 0 0 0 0 1 0 0 0 0 0 0 0 1 0 0 0 0 0 1 0 0 0 0 0 0 0 0 0 0 0 0 0 0 0\n",
      " 0 0 0 0 0 0 0 0 0 0 0 0 0 0 0]\n"
     ]
    }
   ],
   "source": [
    "mu = 0.01\n",
    "mu_sigma = 0.001\n",
    "n_iter = 200\n",
    "#centers = random_centers(X, K=2)\n",
    "centers = np.array([[3., 8.], [5., 4.]])\n",
    "sigma = np.random.uniform(low=0.5, high=1.5, size=2)\n",
    "print('Initialized center = \\n', centers)\n",
    "print('Initializerd standard deviation = \\n', sigma)\n",
    "\n",
    "for n in range(n_iter):\n",
    "    for i in range(len(X)):\n",
    "        x = X[i]\n",
    "        c = data_cluster(x, centers, sigma)\n",
    "        centers[c] = centers[c] + mu*((x - centers[c])/(sigma[c]**2))\n",
    "        c = data_cluster(x, centers, sigma)\n",
    "        cov = (x - centers[c]).dot((x - centers[c]))\n",
    "        sigma[c] = sigma[c] + mu_sigma*((-1/sigma[c]) + cov*(0.5/(sigma[c]**3)))\n",
    "print('Final center = \\n', centers)\n",
    "print('Final standard deviation = \\n', sigma)\n",
    "out = np.array([data_cluster(x, centers, sigma) for x in X]) # output class for each datapoint\n",
    "print('Output class for each data point: \\n', out)"
   ]
  },
  {
   "cell_type": "markdown",
   "metadata": {},
   "source": [
    "This is quite interesting in the case of $\\Sigma_k = \\sigma_k^2 I$ that we get standard deviation around 2 for the Guassian  generated data that has standard deviation of 2 for both axis. And standard deviation around 2.5 for generated data that has SD of 3, 2 for $x$, $y$ axis respectively. \n",
    "\n",
    "Here we miss classify 5 data points (see printed output)"
   ]
  },
  {
   "cell_type": "code",
   "execution_count": 27,
   "metadata": {
    "collapsed": false
   },
   "outputs": [
    {
     "data": {
      "image/png": "[encoded data removed]",
      "text/plain": [
       "<matplotlib.figure.Figure at 0x10ff23c18>"
      ]
     },
     "metadata": {},
     "output_type": "display_data"
    }
   ],
   "source": [
    "fig = plt.figure(1)\n",
    "plt.axis([-5,15,-5,15])\n",
    "ax = fig.add_subplot(1,1,1)\n",
    "colors = ['b', 'r']\n",
    "circles = [plt.Circle((c[0], c[1]), s, color=co, fill=False) \n",
    "           for (c, s, co) in zip(centers, sigma, colors)]\n",
    "for circle in circles:\n",
    "    ax.add_patch(circle)\n",
    "for (center, co) in zip(centers, colors):\n",
    "    plt.scatter(center[0], center[1], color=co)\n",
    "plt.scatter(X[(y==1).flatten(), 0], X[(y==1).flatten(), 1], color='r', alpha=0.3)\n",
    "plt.scatter(X[(y==0).flatten(), 0], X[(y==0).flatten(), 1], color='b', alpha=0.3)\n",
    "plt.xlabel('X')\n",
    "plt.ylabel('Y')\n",
    "plt.title('Final cluster center and standard deviation')\n",
    "plt.show()"
   ]
  }
 ],
 "metadata": {
  "kernelspec": {
   "display_name": "Python 3",
   "language": "python",
   "name": "python3"
  },
  "language_info": {
   "codemirror_mode": {
    "name": "ipython",
    "version": 3
   },
   "file_extension": ".py",
   "mimetype": "text/x-python",
   "name": "python",
   "nbconvert_exporter": "python",
   "pygments_lexer": "ipython3",
   "version": "3.5.1"
  }
 },
 "nbformat": 4,
 "nbformat_minor": 0
}
